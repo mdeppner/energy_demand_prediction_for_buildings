{
 "cells": [
  {
   "cell_type": "markdown",
   "metadata": {},
   "source": [
    "# Building Data Genome 2.0\n",
    "## All-meters datasets creation: hourly and daily timestamp"
   ]
  },
  {
   "cell_type": "markdown",
   "metadata": {},
   "source": [
    "Biam! (pic.biam@gmail.com)"
   ]
  },
  {
   "cell_type": "code",
   "execution_count": 2,
   "metadata": {},
   "outputs": [],
   "source": [
    "import pandas as pd\n",
    "import numpy as np\n",
    "from glob import glob"
   ]
  },
  {
   "cell_type": "markdown",
   "metadata": {
    "toc-hr-collapsed": false
   },
   "source": [
    "# Meters data"
   ]
  },
  {
   "cell_type": "markdown",
   "metadata": {},
   "source": [
    "To join all meters raw dataets run the following code."
   ]
  },
  {
   "cell_type": "markdown",
   "metadata": {},
   "source": [
    "## Data join"
   ]
  },
  {
   "cell_type": "code",
   "execution_count": 3,
   "metadata": {},
   "outputs": [],
   "source": [
    "# Write custom path here\n",
    "path_raw = \"..\\\\data\\\\meters\\\\raw\\\\\"\n",
    "path_proc = \"..\\\\data\\\\meters\\\\processed\\\\\""
   ]
  },
  {
   "cell_type": "code",
   "execution_count": 4,
   "metadata": {},
   "outputs": [],
   "source": [
    "# files in directory\n",
    "files = glob(path_raw + \"*.csv\")"
   ]
  },
  {
   "cell_type": "code",
   "execution_count": 5,
   "metadata": {
    "scrolled": true
   },
   "outputs": [
    {
     "data": {
      "text/plain": [
       "['..\\\\data\\\\meters\\\\raw\\\\chilledwater.csv',\n",
       " '..\\\\data\\\\meters\\\\raw\\\\electricity.csv',\n",
       " '..\\\\data\\\\meters\\\\raw\\\\gas.csv',\n",
       " '..\\\\data\\\\meters\\\\raw\\\\hotwater.csv',\n",
       " '..\\\\data\\\\meters\\\\raw\\\\irrigation.csv',\n",
       " '..\\\\data\\\\meters\\\\raw\\\\solar.csv',\n",
       " '..\\\\data\\\\meters\\\\raw\\\\steam.csv',\n",
       " '..\\\\data\\\\meters\\\\raw\\\\water.csv']"
      ]
     },
     "execution_count": 5,
     "metadata": {},
     "output_type": "execute_result"
    }
   ],
   "source": [
    "files"
   ]
  },
  {
   "cell_type": "code",
   "execution_count": 6,
   "metadata": {},
   "outputs": [],
   "source": [
    "dfs = [] # empty list of the dataframes to create\n",
    "for file in files: # for each file in directory\n",
    "    meter_type = file.split(\"\\\\\")[4].split(\".\")[0] # meter_type to rename the value feature\n",
    "    meter = pd.read_csv(file) # load the dataset\n",
    "    meter = pd.melt(meter, id_vars = \"timestamp\", var_name = \"building_id\", value_name = \"meter_reading\") # melt dataset\n",
    "    meter[\"meter\"] = str(meter_type) # adds column with the meter type\n",
    "    dfs.append(meter) # append to list\n",
    "complete_data = pd.concat(dfs, axis=0, ignore_index=True) # concatenate all meter\n",
    "del(dfs, meter, file, files, meter_type)"
   ]
  },
  {
   "cell_type": "code",
   "execution_count": 9,
   "metadata": {
    "scrolled": true
   },
   "outputs": [
    {
     "data": {
      "text/html": [
       "<div>\n",
       "<style scoped>\n",
       "    .dataframe tbody tr th:only-of-type {\n",
       "        vertical-align: middle;\n",
       "    }\n",
       "\n",
       "    .dataframe tbody tr th {\n",
       "        vertical-align: top;\n",
       "    }\n",
       "\n",
       "    .dataframe thead th {\n",
       "        text-align: right;\n",
       "    }\n",
       "</style>\n",
       "<table border=\"1\" class=\"dataframe\">\n",
       "  <thead>\n",
       "    <tr style=\"text-align: right;\">\n",
       "      <th></th>\n",
       "      <th>timestamp</th>\n",
       "      <th>building_id</th>\n",
       "      <th>meter_reading</th>\n",
       "      <th>meter</th>\n",
       "    </tr>\n",
       "  </thead>\n",
       "  <tbody>\n",
       "    <tr>\n",
       "      <th>53561827</th>\n",
       "      <td>2017-12-31 19:00:00</td>\n",
       "      <td>Wolf_education_Ursula</td>\n",
       "      <td>55.4761</td>\n",
       "      <td>water</td>\n",
       "    </tr>\n",
       "    <tr>\n",
       "      <th>53561828</th>\n",
       "      <td>2017-12-31 20:00:00</td>\n",
       "      <td>Wolf_education_Ursula</td>\n",
       "      <td>50.1927</td>\n",
       "      <td>water</td>\n",
       "    </tr>\n",
       "    <tr>\n",
       "      <th>53561829</th>\n",
       "      <td>2017-12-31 21:00:00</td>\n",
       "      <td>Wolf_education_Ursula</td>\n",
       "      <td>52.8344</td>\n",
       "      <td>water</td>\n",
       "    </tr>\n",
       "    <tr>\n",
       "      <th>53561830</th>\n",
       "      <td>2017-12-31 22:00:00</td>\n",
       "      <td>Wolf_education_Ursula</td>\n",
       "      <td>55.4761</td>\n",
       "      <td>water</td>\n",
       "    </tr>\n",
       "    <tr>\n",
       "      <th>53561831</th>\n",
       "      <td>2017-12-31 23:00:00</td>\n",
       "      <td>Wolf_education_Ursula</td>\n",
       "      <td>55.4761</td>\n",
       "      <td>water</td>\n",
       "    </tr>\n",
       "  </tbody>\n",
       "</table>\n",
       "</div>"
      ],
      "text/plain": [
       "                    timestamp            building_id  meter_reading  meter\n",
       "53561827  2017-12-31 19:00:00  Wolf_education_Ursula        55.4761  water\n",
       "53561828  2017-12-31 20:00:00  Wolf_education_Ursula        50.1927  water\n",
       "53561829  2017-12-31 21:00:00  Wolf_education_Ursula        52.8344  water\n",
       "53561830  2017-12-31 22:00:00  Wolf_education_Ursula        55.4761  water\n",
       "53561831  2017-12-31 23:00:00  Wolf_education_Ursula        55.4761  water"
      ]
     },
     "execution_count": 9,
     "metadata": {},
     "output_type": "execute_result"
    }
   ],
   "source": [
    "complete_data.tail()"
   ]
  },
  {
   "cell_type": "code",
   "execution_count": 7,
   "metadata": {},
   "outputs": [
    {
     "data": {
      "text/plain": [
       "electricity     27684432\n",
       "chilledwater     9736920\n",
       "steam            6491280\n",
       "hotwater         3245640\n",
       "gas              3105288\n",
       "water            2561424\n",
       "irrigation        649128\n",
       "solar              87720\n",
       "Name: meter, dtype: int64"
      ]
     },
     "execution_count": 7,
     "metadata": {},
     "output_type": "execute_result"
    }
   ],
   "source": [
    "# Check the meters\n",
    "complete_data[\"meter\"].value_counts()"
   ]
  },
  {
   "cell_type": "code",
   "execution_count": 8,
   "metadata": {},
   "outputs": [
    {
     "data": {
      "text/plain": [
       "1636"
      ]
     },
     "execution_count": 8,
     "metadata": {},
     "output_type": "execute_result"
    }
   ],
   "source": [
    "# Check number of buildings\n",
    "len(np.unique(complete_data[\"building_id\"]))"
   ]
  },
  {
   "cell_type": "code",
   "execution_count": 9,
   "metadata": {},
   "outputs": [],
   "source": [
    "# Rounds to 4 decimals\n",
    "complete_data[\"meter_reading\"] = round(complete_data[\"meter_reading\"],4)"
   ]
  },
  {
   "cell_type": "markdown",
   "metadata": {},
   "source": [
    "## Hourly timestamp"
   ]
  },
  {
   "cell_type": "markdown",
   "metadata": {},
   "source": [
    "Meters reading are currently hourly."
   ]
  },
  {
   "cell_type": "code",
   "execution_count": 10,
   "metadata": {},
   "outputs": [],
   "source": [
    "complete_data.to_csv(path_proc + \"allmeters.csv\", index=False)"
   ]
  },
  {
   "cell_type": "markdown",
   "metadata": {},
   "source": [
    "## Daily timestamp"
   ]
  },
  {
   "cell_type": "markdown",
   "metadata": {},
   "source": [
    "Daily readings are summarized as the sum of all the readings of that day."
   ]
  },
  {
   "cell_type": "code",
   "execution_count": 11,
   "metadata": {},
   "outputs": [],
   "source": [
    "# Converts timestamp to datetime object\n",
    "complete_data[\"timestamp\"] = pd.to_datetime(complete_data[\"timestamp\"], format='%Y-%m-%d %H:%M:%S')"
   ]
  },
  {
   "cell_type": "code",
   "execution_count": 12,
   "metadata": {},
   "outputs": [
    {
     "name": "stdout",
     "output_type": "stream",
     "text": [
      "<class 'pandas.core.frame.DataFrame'>\n",
      "RangeIndex: 53561832 entries, 0 to 53561831\n",
      "Data columns (total 4 columns):\n",
      " #   Column         Dtype         \n",
      "---  ------         -----         \n",
      " 0   timestamp      datetime64[ns]\n",
      " 1   building_id    object        \n",
      " 2   meter_reading  float64       \n",
      " 3   meter          object        \n",
      "dtypes: datetime64[ns](1), float64(1), object(2)\n",
      "memory usage: 1.6+ GB\n"
     ]
    }
   ],
   "source": [
    "complete_data.info()"
   ]
  },
  {
   "cell_type": "code",
   "execution_count": 13,
   "metadata": {},
   "outputs": [],
   "source": [
    "# Sums all readings per day\n",
    "complete_data = complete_data.groupby(by=[\"building_id\",\"meter\",complete_data['timestamp'].dt.date]).sum()"
   ]
  },
  {
   "cell_type": "code",
   "execution_count": 14,
   "metadata": {},
   "outputs": [],
   "source": [
    "# Reset indexes to ungroup\n",
    "complete_data = complete_data.reset_index()"
   ]
  },
  {
   "cell_type": "code",
   "execution_count": 15,
   "metadata": {},
   "outputs": [
    {
     "data": {
      "text/html": [
       "<div>\n",
       "<style scoped>\n",
       "    .dataframe tbody tr th:only-of-type {\n",
       "        vertical-align: middle;\n",
       "    }\n",
       "\n",
       "    .dataframe tbody tr th {\n",
       "        vertical-align: top;\n",
       "    }\n",
       "\n",
       "    .dataframe thead th {\n",
       "        text-align: right;\n",
       "    }\n",
       "</style>\n",
       "<table border=\"1\" class=\"dataframe\">\n",
       "  <thead>\n",
       "    <tr style=\"text-align: right;\">\n",
       "      <th></th>\n",
       "      <th>building_id</th>\n",
       "      <th>meter</th>\n",
       "      <th>timestamp</th>\n",
       "      <th>meter_reading</th>\n",
       "    </tr>\n",
       "  </thead>\n",
       "  <tbody>\n",
       "    <tr>\n",
       "      <th>0</th>\n",
       "      <td>Bear_assembly_Angel</td>\n",
       "      <td>electricity</td>\n",
       "      <td>2016-01-01</td>\n",
       "      <td>12808.1620</td>\n",
       "    </tr>\n",
       "    <tr>\n",
       "      <th>1</th>\n",
       "      <td>Bear_assembly_Angel</td>\n",
       "      <td>electricity</td>\n",
       "      <td>2016-01-02</td>\n",
       "      <td>9251.0003</td>\n",
       "    </tr>\n",
       "    <tr>\n",
       "      <th>2</th>\n",
       "      <td>Bear_assembly_Angel</td>\n",
       "      <td>electricity</td>\n",
       "      <td>2016-01-03</td>\n",
       "      <td>14071.6500</td>\n",
       "    </tr>\n",
       "    <tr>\n",
       "      <th>3</th>\n",
       "      <td>Bear_assembly_Angel</td>\n",
       "      <td>electricity</td>\n",
       "      <td>2016-01-04</td>\n",
       "      <td>12860.3758</td>\n",
       "    </tr>\n",
       "    <tr>\n",
       "      <th>4</th>\n",
       "      <td>Bear_assembly_Angel</td>\n",
       "      <td>electricity</td>\n",
       "      <td>2016-01-05</td>\n",
       "      <td>12212.8585</td>\n",
       "    </tr>\n",
       "  </tbody>\n",
       "</table>\n",
       "</div>"
      ],
      "text/plain": [
       "           building_id        meter   timestamp  meter_reading\n",
       "0  Bear_assembly_Angel  electricity  2016-01-01     12808.1620\n",
       "1  Bear_assembly_Angel  electricity  2016-01-02      9251.0003\n",
       "2  Bear_assembly_Angel  electricity  2016-01-03     14071.6500\n",
       "3  Bear_assembly_Angel  electricity  2016-01-04     12860.3758\n",
       "4  Bear_assembly_Angel  electricity  2016-01-05     12212.8585"
      ]
     },
     "execution_count": 15,
     "metadata": {},
     "output_type": "execute_result"
    }
   ],
   "source": [
    "complete_data.head()"
   ]
  },
  {
   "cell_type": "code",
   "execution_count": 16,
   "metadata": {},
   "outputs": [],
   "source": [
    "# export csv\n",
    "complete_data.to_csv(path_proc + \"allmeters_daily.csv\", index=False)"
   ]
  },
  {
   "cell_type": "code",
   "execution_count": null,
   "metadata": {},
   "outputs": [],
   "source": [
    "del complete_data"
   ]
  }
 ],
 "metadata": {
  "kernelspec": {
   "display_name": "Python 3 (ipykernel)",
   "language": "python",
   "name": "python3"
  },
  "language_info": {
   "codemirror_mode": {
    "name": "ipython",
    "version": 3
   },
   "file_extension": ".py",
   "mimetype": "text/x-python",
   "name": "python",
   "nbconvert_exporter": "python",
   "pygments_lexer": "ipython3",
   "version": "3.9.12"
  },
  "toc-showcode": false,
  "toc-showtags": false
 },
 "nbformat": 4,
 "nbformat_minor": 4
}
