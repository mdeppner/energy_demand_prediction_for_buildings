{
 "cells": [
  {
   "cell_type": "markdown",
   "id": "cbb67cc7",
   "metadata": {},
   "source": [
    "# Student Project - Machine Learning for Renewable Energy Systems\n",
    "## Coding Track: Forecasting Building Energy Data\n",
    "\n",
    "### Task: Predict demand of the next step, next day and next week of at least one building per category.\n",
    "\n",
    "\n",
    "\n",
    "This notebook was created as project in the course of the seminar Machine Learning for Renewable Energy Systems. \n",
    "The code and the forecasting has been carried out in this jupyter notebook and is the work of \n",
    "\n",
    "    Markus Deppner   4106780   markus.deppner@student.uni-tuebingen.de\n",
    "    \n",
    "This project works with data from [\"The Building Data Genome 2 (BDG2) Data-Set\"](https://github.com/buds-lab/building-data-genome-project-2) and aims to predict the energy demand of at least one building per category. To carry out this project I decided to train a Gaussian Process Model based on the demands of all other buildings.  \n",
    "\n",
    "This notebook ist designed in the following structure:\n",
    "\n",
    "### Outline\n",
    "\n",
    "* [1. Setup and Imports](#setup_section)\n",
    "\n",
    "    - Import all necessary packages and define helper functions\n",
    "* [2. Loading Datasets](#loading_datasets)\n",
    "\n",
    "    - Load datasets - which one?\n",
    "    - Working with cleaned or raw dataset?\n",
    "* [3. Data Cleaning and Preprocessing](#data_cleaning)\n",
    "\n",
    "    - When working with the cleaned dataset: almost done\n",
    "* [4. Forecasting Techniques](#forecasting_techniques)\n",
    "\n",
    "    - Selection of parameters\n",
    "        - find features that show high correlation to our output\n",
    "    - Train Gaussian process\n",
    "    - Train Arima mordels\n",
    "* [5. Forecasting](#forecasting)\n",
    "    \n",
    "    -  \n",
    "* [6. Evaluation](#evaluation)"
   ]
  },
  {
   "cell_type": "markdown",
   "id": "e35a7819",
   "metadata": {},
   "source": [
    "# Idea dump "
   ]
  },
  {
   "cell_type": "raw",
   "id": "5009c27e",
   "metadata": {},
   "source": [
    "Find spatial structure in the data\n",
    "\n",
    "Locate the buildings on a map\n",
    "Find out how many buildings are within an area\n",
    "Normalize the data, scale down to something\n",
    "Train on multiple buildings within the area\n",
    "Include all other buildings in the Gaussian Process\n",
    "Predict next on the previous timestep\n",
    "\n"
   ]
  },
  {
   "cell_type": "markdown",
   "id": "9b486683",
   "metadata": {},
   "source": [
    "# <a name=\"setup_section\"></a> 1. Setup: Manage Installations Imports and Helper Functions"
   ]
  },
  {
   "cell_type": "code",
   "execution_count": 3,
   "id": "0ce35454",
   "metadata": {},
   "outputs": [],
   "source": [
    "import math\n",
    "import pandas as pd\n",
    "import numpy as np\n",
    "import matplotlib.pyplot as plt\n",
    "import csv\n",
    "\n",
    "\n",
    "from glob import glob\n",
    "from sklearn.model_selection import train_test_split"
   ]
  },
  {
   "cell_type": "markdown",
   "id": "048c6698",
   "metadata": {},
   "source": [
    "# <a name=\"loading_datasets\"></a> 2. Loading Datasets"
   ]
  },
  {
   "cell_type": "markdown",
   "id": "bae64aa5",
   "metadata": {},
   "source": [
    "## Load metadata"
   ]
  },
  {
   "cell_type": "code",
   "execution_count": 2,
   "id": "42e3e47f",
   "metadata": {},
   "outputs": [],
   "source": [
    "metdata_path = \"..\\\\data\\\\metadata\\\\\"\n",
    "metadata = pd.read_csv(metdata_path + \"metadata.csv\")"
   ]
  },
  {
   "cell_type": "markdown",
   "id": "f335f9be",
   "metadata": {},
   "source": [
    "## Load raw dataset"
   ]
  },
  {
   "cell_type": "code",
   "execution_count": 3,
   "id": "25bc228a",
   "metadata": {
    "scrolled": true
   },
   "outputs": [],
   "source": [
    "raw_meters_path = \"..\\\\data\\\\meters\\\\raw\\\\\"\n",
    "\n",
    "# files in directory\n",
    "files = glob(raw_meters_path + \"*.csv\")"
   ]
  },
  {
   "cell_type": "code",
   "execution_count": 4,
   "id": "4873b7c6",
   "metadata": {},
   "outputs": [],
   "source": [
    "dfs = [] # empty list of the dataframes to create\n",
    "for file in files: # for each file in directory\n",
    "    meter_type = file.split(\"\\\\\")[4].split(\".\")[0] # meter_type to rename the value feature\n",
    "    meter = pd.read_csv(file) # load the dataset\n",
    "    meter = pd.melt(meter, id_vars = \"timestamp\", var_name = \"building_id\", value_name = \"meter_reading\") # melt dataset\n",
    "    meter[\"meter\"] = str(meter_type) # adds column with the meter type\n",
    "    dfs.append(meter) # append to list\n",
    "raw_data_cleaned = pd.concat(dfs, axis=0, ignore_index=True) # concatenate all meter\n",
    "del(dfs, meter, file, files, meter_type)"
   ]
  },
  {
   "cell_type": "code",
   "execution_count": 5,
   "id": "8cfbcc5a",
   "metadata": {},
   "outputs": [
    {
     "data": {
      "text/html": [
       "<div>\n",
       "<style scoped>\n",
       "    .dataframe tbody tr th:only-of-type {\n",
       "        vertical-align: middle;\n",
       "    }\n",
       "\n",
       "    .dataframe tbody tr th {\n",
       "        vertical-align: top;\n",
       "    }\n",
       "\n",
       "    .dataframe thead th {\n",
       "        text-align: right;\n",
       "    }\n",
       "</style>\n",
       "<table border=\"1\" class=\"dataframe\">\n",
       "  <thead>\n",
       "    <tr style=\"text-align: right;\">\n",
       "      <th></th>\n",
       "      <th>timestamp</th>\n",
       "      <th>building_id</th>\n",
       "      <th>meter_reading</th>\n",
       "      <th>meter</th>\n",
       "    </tr>\n",
       "  </thead>\n",
       "  <tbody>\n",
       "    <tr>\n",
       "      <th>0</th>\n",
       "      <td>2016-01-01 00:00:00</td>\n",
       "      <td>Panther_office_Clementine</td>\n",
       "      <td>NaN</td>\n",
       "      <td>chilledwater</td>\n",
       "    </tr>\n",
       "    <tr>\n",
       "      <th>1</th>\n",
       "      <td>2016-01-01 01:00:00</td>\n",
       "      <td>Panther_office_Clementine</td>\n",
       "      <td>NaN</td>\n",
       "      <td>chilledwater</td>\n",
       "    </tr>\n",
       "    <tr>\n",
       "      <th>2</th>\n",
       "      <td>2016-01-01 02:00:00</td>\n",
       "      <td>Panther_office_Clementine</td>\n",
       "      <td>NaN</td>\n",
       "      <td>chilledwater</td>\n",
       "    </tr>\n",
       "    <tr>\n",
       "      <th>3</th>\n",
       "      <td>2016-01-01 03:00:00</td>\n",
       "      <td>Panther_office_Clementine</td>\n",
       "      <td>NaN</td>\n",
       "      <td>chilledwater</td>\n",
       "    </tr>\n",
       "    <tr>\n",
       "      <th>4</th>\n",
       "      <td>2016-01-01 04:00:00</td>\n",
       "      <td>Panther_office_Clementine</td>\n",
       "      <td>NaN</td>\n",
       "      <td>chilledwater</td>\n",
       "    </tr>\n",
       "  </tbody>\n",
       "</table>\n",
       "</div>"
      ],
      "text/plain": [
       "             timestamp                building_id  meter_reading         meter\n",
       "0  2016-01-01 00:00:00  Panther_office_Clementine            NaN  chilledwater\n",
       "1  2016-01-01 01:00:00  Panther_office_Clementine            NaN  chilledwater\n",
       "2  2016-01-01 02:00:00  Panther_office_Clementine            NaN  chilledwater\n",
       "3  2016-01-01 03:00:00  Panther_office_Clementine            NaN  chilledwater\n",
       "4  2016-01-01 04:00:00  Panther_office_Clementine            NaN  chilledwater"
      ]
     },
     "execution_count": 5,
     "metadata": {},
     "output_type": "execute_result"
    }
   ],
   "source": [
    "raw_data_cleaned.head()"
   ]
  },
  {
   "cell_type": "markdown",
   "id": "c64e90ef",
   "metadata": {},
   "source": [
    "## Load cleaned dataset"
   ]
  },
  {
   "cell_type": "code",
   "execution_count": 6,
   "id": "c7afb469",
   "metadata": {
    "scrolled": true
   },
   "outputs": [],
   "source": [
    "cleaned_meters_path = \"..\\\\data\\\\meters\\\\cleaned\\\\\"\n",
    "\n",
    "# files in directory\n",
    "files = glob(cleaned_meters_path + \"*.csv\")"
   ]
  },
  {
   "cell_type": "code",
   "execution_count": 7,
   "id": "9b96c5e0",
   "metadata": {},
   "outputs": [],
   "source": [
    "dfs = [] # empty list of the dataframes to create\n",
    "for file in files: # for each file in directory\n",
    "    meter_type = file.split(\"\\\\\")[4].split(\".\")[0] # meter_type to rename the value feature\n",
    "    meter = pd.read_csv(file) # load the dataset\n",
    "    meter = pd.melt(meter, id_vars = \"timestamp\", var_name = \"building_id\", value_name = \"meter_reading\") # melt dataset\n",
    "    meter[\"meter\"] = str(meter_type) # adds column with the meter type\n",
    "    dfs.append(meter) # append to list\n",
    "complete_data_cleaned = pd.concat(dfs, axis=0, ignore_index=True) # concatenate all meter\n",
    "del(dfs, meter, file, files, meter_type)"
   ]
  },
  {
   "cell_type": "code",
   "execution_count": 8,
   "id": "60cfbaa4",
   "metadata": {
    "scrolled": true
   },
   "outputs": [
    {
     "data": {
      "text/html": [
       "<div>\n",
       "<style scoped>\n",
       "    .dataframe tbody tr th:only-of-type {\n",
       "        vertical-align: middle;\n",
       "    }\n",
       "\n",
       "    .dataframe tbody tr th {\n",
       "        vertical-align: top;\n",
       "    }\n",
       "\n",
       "    .dataframe thead th {\n",
       "        text-align: right;\n",
       "    }\n",
       "</style>\n",
       "<table border=\"1\" class=\"dataframe\">\n",
       "  <thead>\n",
       "    <tr style=\"text-align: right;\">\n",
       "      <th></th>\n",
       "      <th>timestamp</th>\n",
       "      <th>building_id</th>\n",
       "      <th>meter_reading</th>\n",
       "      <th>meter</th>\n",
       "    </tr>\n",
       "  </thead>\n",
       "  <tbody>\n",
       "    <tr>\n",
       "      <th>0</th>\n",
       "      <td>2016-01-01 00:00:00</td>\n",
       "      <td>Panther_office_Clementine</td>\n",
       "      <td>NaN</td>\n",
       "      <td>chilledwater_cleaned</td>\n",
       "    </tr>\n",
       "    <tr>\n",
       "      <th>1</th>\n",
       "      <td>2016-01-01 01:00:00</td>\n",
       "      <td>Panther_office_Clementine</td>\n",
       "      <td>NaN</td>\n",
       "      <td>chilledwater_cleaned</td>\n",
       "    </tr>\n",
       "    <tr>\n",
       "      <th>2</th>\n",
       "      <td>2016-01-01 02:00:00</td>\n",
       "      <td>Panther_office_Clementine</td>\n",
       "      <td>NaN</td>\n",
       "      <td>chilledwater_cleaned</td>\n",
       "    </tr>\n",
       "    <tr>\n",
       "      <th>3</th>\n",
       "      <td>2016-01-01 03:00:00</td>\n",
       "      <td>Panther_office_Clementine</td>\n",
       "      <td>NaN</td>\n",
       "      <td>chilledwater_cleaned</td>\n",
       "    </tr>\n",
       "    <tr>\n",
       "      <th>4</th>\n",
       "      <td>2016-01-01 04:00:00</td>\n",
       "      <td>Panther_office_Clementine</td>\n",
       "      <td>NaN</td>\n",
       "      <td>chilledwater_cleaned</td>\n",
       "    </tr>\n",
       "  </tbody>\n",
       "</table>\n",
       "</div>"
      ],
      "text/plain": [
       "             timestamp                building_id  meter_reading  \\\n",
       "0  2016-01-01 00:00:00  Panther_office_Clementine            NaN   \n",
       "1  2016-01-01 01:00:00  Panther_office_Clementine            NaN   \n",
       "2  2016-01-01 02:00:00  Panther_office_Clementine            NaN   \n",
       "3  2016-01-01 03:00:00  Panther_office_Clementine            NaN   \n",
       "4  2016-01-01 04:00:00  Panther_office_Clementine            NaN   \n",
       "\n",
       "                  meter  \n",
       "0  chilledwater_cleaned  \n",
       "1  chilledwater_cleaned  \n",
       "2  chilledwater_cleaned  \n",
       "3  chilledwater_cleaned  \n",
       "4  chilledwater_cleaned  "
      ]
     },
     "execution_count": 8,
     "metadata": {},
     "output_type": "execute_result"
    }
   ],
   "source": [
    "complete_data_cleaned.head()"
   ]
  },
  {
   "cell_type": "markdown",
   "id": "4b052e05",
   "metadata": {},
   "source": [
    "## Load benchmarks"
   ]
  },
  {
   "cell_type": "code",
   "execution_count": 9,
   "id": "0fc4c29d",
   "metadata": {},
   "outputs": [],
   "source": [
    "cleaned_meters_path = \"..\\\\data\\\\\"\n",
    "\n",
    "# files in directory\n",
    "files = glob(cleaned_meters_path + \"*.csv\")\n",
    "benchmark = pd.read_csv(files[0]) # load the dataset"
   ]
  },
  {
   "cell_type": "code",
   "execution_count": 10,
   "id": "77ec8612",
   "metadata": {
    "scrolled": true
   },
   "outputs": [
    {
     "data": {
      "text/html": [
       "<div>\n",
       "<style scoped>\n",
       "    .dataframe tbody tr th:only-of-type {\n",
       "        vertical-align: middle;\n",
       "    }\n",
       "\n",
       "    .dataframe tbody tr th {\n",
       "        vertical-align: top;\n",
       "    }\n",
       "\n",
       "    .dataframe thead th {\n",
       "        text-align: right;\n",
       "    }\n",
       "</style>\n",
       "<table border=\"1\" class=\"dataframe\">\n",
       "  <thead>\n",
       "    <tr style=\"text-align: right;\">\n",
       "      <th></th>\n",
       "      <th>name</th>\n",
       "      <th>building_id</th>\n",
       "      <th>RMSE</th>\n",
       "      <th>MAE</th>\n",
       "      <th>horizon</th>\n",
       "    </tr>\n",
       "  </thead>\n",
       "  <tbody>\n",
       "    <tr>\n",
       "      <th>0</th>\n",
       "      <td>Bear_utility_Sidney</td>\n",
       "      <td>utility</td>\n",
       "      <td>1.157131</td>\n",
       "      <td>0.846614</td>\n",
       "      <td>hourly</td>\n",
       "    </tr>\n",
       "    <tr>\n",
       "      <th>1</th>\n",
       "      <td>Bear_utility_Sidney</td>\n",
       "      <td>utility</td>\n",
       "      <td>1.255013</td>\n",
       "      <td>0.862390</td>\n",
       "      <td>daily</td>\n",
       "    </tr>\n",
       "    <tr>\n",
       "      <th>2</th>\n",
       "      <td>Bear_utility_Sidney</td>\n",
       "      <td>utility</td>\n",
       "      <td>1.851878</td>\n",
       "      <td>1.167219</td>\n",
       "      <td>weekly</td>\n",
       "    </tr>\n",
       "    <tr>\n",
       "      <th>3</th>\n",
       "      <td>Cockatoo_religion_Diedre</td>\n",
       "      <td>religion</td>\n",
       "      <td>1.475301</td>\n",
       "      <td>1.018945</td>\n",
       "      <td>hourly</td>\n",
       "    </tr>\n",
       "    <tr>\n",
       "      <th>4</th>\n",
       "      <td>Cockatoo_religion_Diedre</td>\n",
       "      <td>religion</td>\n",
       "      <td>2.349360</td>\n",
       "      <td>1.820794</td>\n",
       "      <td>daily</td>\n",
       "    </tr>\n",
       "    <tr>\n",
       "      <th>5</th>\n",
       "      <td>Cockatoo_religion_Diedre</td>\n",
       "      <td>religion</td>\n",
       "      <td>2.833513</td>\n",
       "      <td>1.958076</td>\n",
       "      <td>weekly</td>\n",
       "    </tr>\n",
       "    <tr>\n",
       "      <th>6</th>\n",
       "      <td>Cockatoo_science_Rex</td>\n",
       "      <td>science</td>\n",
       "      <td>7.304536</td>\n",
       "      <td>5.529282</td>\n",
       "      <td>hourly</td>\n",
       "    </tr>\n",
       "    <tr>\n",
       "      <th>7</th>\n",
       "      <td>Cockatoo_science_Rex</td>\n",
       "      <td>science</td>\n",
       "      <td>10.882962</td>\n",
       "      <td>7.975783</td>\n",
       "      <td>daily</td>\n",
       "    </tr>\n",
       "    <tr>\n",
       "      <th>8</th>\n",
       "      <td>Cockatoo_science_Rex</td>\n",
       "      <td>science</td>\n",
       "      <td>12.667458</td>\n",
       "      <td>8.261340</td>\n",
       "      <td>weekly</td>\n",
       "    </tr>\n",
       "    <tr>\n",
       "      <th>9</th>\n",
       "      <td>Eagle_education_Teresa</td>\n",
       "      <td>education</td>\n",
       "      <td>8.286079</td>\n",
       "      <td>5.855556</td>\n",
       "      <td>hourly</td>\n",
       "    </tr>\n",
       "    <tr>\n",
       "      <th>10</th>\n",
       "      <td>Eagle_education_Teresa</td>\n",
       "      <td>education</td>\n",
       "      <td>11.534440</td>\n",
       "      <td>8.819952</td>\n",
       "      <td>daily</td>\n",
       "    </tr>\n",
       "    <tr>\n",
       "      <th>11</th>\n",
       "      <td>Eagle_education_Teresa</td>\n",
       "      <td>education</td>\n",
       "      <td>14.939611</td>\n",
       "      <td>10.992661</td>\n",
       "      <td>weekly</td>\n",
       "    </tr>\n",
       "    <tr>\n",
       "      <th>12</th>\n",
       "      <td>Eagle_health_Lucinda</td>\n",
       "      <td>health</td>\n",
       "      <td>24.377798</td>\n",
       "      <td>14.279867</td>\n",
       "      <td>hourly</td>\n",
       "    </tr>\n",
       "    <tr>\n",
       "      <th>13</th>\n",
       "      <td>Eagle_health_Lucinda</td>\n",
       "      <td>health</td>\n",
       "      <td>40.084198</td>\n",
       "      <td>28.209270</td>\n",
       "      <td>daily</td>\n",
       "    </tr>\n",
       "    <tr>\n",
       "      <th>14</th>\n",
       "      <td>Eagle_health_Lucinda</td>\n",
       "      <td>health</td>\n",
       "      <td>50.877437</td>\n",
       "      <td>35.407537</td>\n",
       "      <td>weekly</td>\n",
       "    </tr>\n",
       "    <tr>\n",
       "      <th>15</th>\n",
       "      <td>Fox_food_Francesco</td>\n",
       "      <td>food</td>\n",
       "      <td>9.409997</td>\n",
       "      <td>6.518361</td>\n",
       "      <td>hourly</td>\n",
       "    </tr>\n",
       "    <tr>\n",
       "      <th>16</th>\n",
       "      <td>Fox_food_Francesco</td>\n",
       "      <td>food</td>\n",
       "      <td>10.331829</td>\n",
       "      <td>7.536682</td>\n",
       "      <td>daily</td>\n",
       "    </tr>\n",
       "    <tr>\n",
       "      <th>17</th>\n",
       "      <td>Fox_food_Francesco</td>\n",
       "      <td>food</td>\n",
       "      <td>18.896017</td>\n",
       "      <td>10.796031</td>\n",
       "      <td>weekly</td>\n",
       "    </tr>\n",
       "    <tr>\n",
       "      <th>18</th>\n",
       "      <td>Fox_parking_Tommie</td>\n",
       "      <td>parking</td>\n",
       "      <td>2.536276</td>\n",
       "      <td>1.177474</td>\n",
       "      <td>hourly</td>\n",
       "    </tr>\n",
       "    <tr>\n",
       "      <th>19</th>\n",
       "      <td>Fox_parking_Tommie</td>\n",
       "      <td>parking</td>\n",
       "      <td>3.155471</td>\n",
       "      <td>1.812750</td>\n",
       "      <td>daily</td>\n",
       "    </tr>\n",
       "    <tr>\n",
       "      <th>20</th>\n",
       "      <td>Fox_parking_Tommie</td>\n",
       "      <td>parking</td>\n",
       "      <td>3.463871</td>\n",
       "      <td>1.573460</td>\n",
       "      <td>weekly</td>\n",
       "    </tr>\n",
       "    <tr>\n",
       "      <th>21</th>\n",
       "      <td>Gator_other_Gertrude</td>\n",
       "      <td>other</td>\n",
       "      <td>0.232520</td>\n",
       "      <td>0.051120</td>\n",
       "      <td>hourly</td>\n",
       "    </tr>\n",
       "    <tr>\n",
       "      <th>22</th>\n",
       "      <td>Gator_other_Gertrude</td>\n",
       "      <td>other</td>\n",
       "      <td>1.070888</td>\n",
       "      <td>0.786288</td>\n",
       "      <td>daily</td>\n",
       "    </tr>\n",
       "    <tr>\n",
       "      <th>23</th>\n",
       "      <td>Gator_other_Gertrude</td>\n",
       "      <td>other</td>\n",
       "      <td>1.404810</td>\n",
       "      <td>0.946556</td>\n",
       "      <td>weekly</td>\n",
       "    </tr>\n",
       "    <tr>\n",
       "      <th>24</th>\n",
       "      <td>Hog_office_Bill</td>\n",
       "      <td>office</td>\n",
       "      <td>18.614739</td>\n",
       "      <td>10.711040</td>\n",
       "      <td>hourly</td>\n",
       "    </tr>\n",
       "    <tr>\n",
       "      <th>25</th>\n",
       "      <td>Hog_office_Bill</td>\n",
       "      <td>office</td>\n",
       "      <td>46.933820</td>\n",
       "      <td>29.432126</td>\n",
       "      <td>daily</td>\n",
       "    </tr>\n",
       "    <tr>\n",
       "      <th>26</th>\n",
       "      <td>Hog_office_Bill</td>\n",
       "      <td>office</td>\n",
       "      <td>60.590159</td>\n",
       "      <td>34.006334</td>\n",
       "      <td>weekly</td>\n",
       "    </tr>\n",
       "    <tr>\n",
       "      <th>27</th>\n",
       "      <td>Hog_services_Kerrie</td>\n",
       "      <td>services</td>\n",
       "      <td>2.075842</td>\n",
       "      <td>1.448992</td>\n",
       "      <td>hourly</td>\n",
       "    </tr>\n",
       "    <tr>\n",
       "      <th>28</th>\n",
       "      <td>Hog_services_Kerrie</td>\n",
       "      <td>services</td>\n",
       "      <td>3.061034</td>\n",
       "      <td>2.400821</td>\n",
       "      <td>daily</td>\n",
       "    </tr>\n",
       "    <tr>\n",
       "      <th>29</th>\n",
       "      <td>Hog_services_Kerrie</td>\n",
       "      <td>services</td>\n",
       "      <td>3.818607</td>\n",
       "      <td>2.549373</td>\n",
       "      <td>weekly</td>\n",
       "    </tr>\n",
       "    <tr>\n",
       "      <th>30</th>\n",
       "      <td>Hog_warehouse_Porsha</td>\n",
       "      <td>warehouse</td>\n",
       "      <td>1.958354</td>\n",
       "      <td>0.945058</td>\n",
       "      <td>hourly</td>\n",
       "    </tr>\n",
       "    <tr>\n",
       "      <th>31</th>\n",
       "      <td>Hog_warehouse_Porsha</td>\n",
       "      <td>warehouse</td>\n",
       "      <td>2.141530</td>\n",
       "      <td>1.150929</td>\n",
       "      <td>daily</td>\n",
       "    </tr>\n",
       "    <tr>\n",
       "      <th>32</th>\n",
       "      <td>Hog_warehouse_Porsha</td>\n",
       "      <td>warehouse</td>\n",
       "      <td>2.911756</td>\n",
       "      <td>1.397100</td>\n",
       "      <td>weekly</td>\n",
       "    </tr>\n",
       "    <tr>\n",
       "      <th>33</th>\n",
       "      <td>Lamb_assembly_Bertie</td>\n",
       "      <td>assembly</td>\n",
       "      <td>17.967060</td>\n",
       "      <td>10.985065</td>\n",
       "      <td>hourly</td>\n",
       "    </tr>\n",
       "    <tr>\n",
       "      <th>34</th>\n",
       "      <td>Lamb_assembly_Bertie</td>\n",
       "      <td>assembly</td>\n",
       "      <td>28.582859</td>\n",
       "      <td>22.667979</td>\n",
       "      <td>daily</td>\n",
       "    </tr>\n",
       "    <tr>\n",
       "      <th>35</th>\n",
       "      <td>Lamb_assembly_Bertie</td>\n",
       "      <td>assembly</td>\n",
       "      <td>48.756165</td>\n",
       "      <td>28.608991</td>\n",
       "      <td>weekly</td>\n",
       "    </tr>\n",
       "    <tr>\n",
       "      <th>36</th>\n",
       "      <td>Lamb_industrial_Carla</td>\n",
       "      <td>industrial</td>\n",
       "      <td>45.353234</td>\n",
       "      <td>30.321867</td>\n",
       "      <td>hourly</td>\n",
       "    </tr>\n",
       "    <tr>\n",
       "      <th>37</th>\n",
       "      <td>Lamb_industrial_Carla</td>\n",
       "      <td>industrial</td>\n",
       "      <td>43.913538</td>\n",
       "      <td>31.891065</td>\n",
       "      <td>daily</td>\n",
       "    </tr>\n",
       "    <tr>\n",
       "      <th>38</th>\n",
       "      <td>Lamb_industrial_Carla</td>\n",
       "      <td>industrial</td>\n",
       "      <td>53.681570</td>\n",
       "      <td>26.884887</td>\n",
       "      <td>weekly</td>\n",
       "    </tr>\n",
       "    <tr>\n",
       "      <th>39</th>\n",
       "      <td>Peacock_lodging_Matthew</td>\n",
       "      <td>lodging</td>\n",
       "      <td>3.862391</td>\n",
       "      <td>2.968328</td>\n",
       "      <td>hourly</td>\n",
       "    </tr>\n",
       "    <tr>\n",
       "      <th>40</th>\n",
       "      <td>Peacock_lodging_Matthew</td>\n",
       "      <td>lodging</td>\n",
       "      <td>4.518313</td>\n",
       "      <td>3.510761</td>\n",
       "      <td>daily</td>\n",
       "    </tr>\n",
       "    <tr>\n",
       "      <th>41</th>\n",
       "      <td>Peacock_lodging_Matthew</td>\n",
       "      <td>lodging</td>\n",
       "      <td>8.428719</td>\n",
       "      <td>6.074870</td>\n",
       "      <td>weekly</td>\n",
       "    </tr>\n",
       "    <tr>\n",
       "      <th>42</th>\n",
       "      <td>Rat_public_Loretta</td>\n",
       "      <td>public</td>\n",
       "      <td>2.925038</td>\n",
       "      <td>1.817659</td>\n",
       "      <td>hourly</td>\n",
       "    </tr>\n",
       "    <tr>\n",
       "      <th>43</th>\n",
       "      <td>Rat_public_Loretta</td>\n",
       "      <td>public</td>\n",
       "      <td>9.891990</td>\n",
       "      <td>6.787990</td>\n",
       "      <td>daily</td>\n",
       "    </tr>\n",
       "    <tr>\n",
       "      <th>44</th>\n",
       "      <td>Rat_public_Loretta</td>\n",
       "      <td>public</td>\n",
       "      <td>16.948175</td>\n",
       "      <td>12.082286</td>\n",
       "      <td>weekly</td>\n",
       "    </tr>\n",
       "    <tr>\n",
       "      <th>45</th>\n",
       "      <td>Wolf_retail_Marcella</td>\n",
       "      <td>retail</td>\n",
       "      <td>1.187043</td>\n",
       "      <td>0.793767</td>\n",
       "      <td>hourly</td>\n",
       "    </tr>\n",
       "    <tr>\n",
       "      <th>46</th>\n",
       "      <td>Wolf_retail_Marcella</td>\n",
       "      <td>retail</td>\n",
       "      <td>1.857042</td>\n",
       "      <td>1.375036</td>\n",
       "      <td>daily</td>\n",
       "    </tr>\n",
       "    <tr>\n",
       "      <th>47</th>\n",
       "      <td>Wolf_retail_Marcella</td>\n",
       "      <td>retail</td>\n",
       "      <td>3.254573</td>\n",
       "      <td>2.155485</td>\n",
       "      <td>weekly</td>\n",
       "    </tr>\n",
       "  </tbody>\n",
       "</table>\n",
       "</div>"
      ],
      "text/plain": [
       "                        name building_id       RMSE        MAE horizon\n",
       "0        Bear_utility_Sidney     utility   1.157131   0.846614  hourly\n",
       "1        Bear_utility_Sidney     utility   1.255013   0.862390   daily\n",
       "2        Bear_utility_Sidney     utility   1.851878   1.167219  weekly\n",
       "3   Cockatoo_religion_Diedre    religion   1.475301   1.018945  hourly\n",
       "4   Cockatoo_religion_Diedre    religion   2.349360   1.820794   daily\n",
       "5   Cockatoo_religion_Diedre    religion   2.833513   1.958076  weekly\n",
       "6       Cockatoo_science_Rex     science   7.304536   5.529282  hourly\n",
       "7       Cockatoo_science_Rex     science  10.882962   7.975783   daily\n",
       "8       Cockatoo_science_Rex     science  12.667458   8.261340  weekly\n",
       "9     Eagle_education_Teresa   education   8.286079   5.855556  hourly\n",
       "10    Eagle_education_Teresa   education  11.534440   8.819952   daily\n",
       "11    Eagle_education_Teresa   education  14.939611  10.992661  weekly\n",
       "12      Eagle_health_Lucinda      health  24.377798  14.279867  hourly\n",
       "13      Eagle_health_Lucinda      health  40.084198  28.209270   daily\n",
       "14      Eagle_health_Lucinda      health  50.877437  35.407537  weekly\n",
       "15        Fox_food_Francesco        food   9.409997   6.518361  hourly\n",
       "16        Fox_food_Francesco        food  10.331829   7.536682   daily\n",
       "17        Fox_food_Francesco        food  18.896017  10.796031  weekly\n",
       "18        Fox_parking_Tommie     parking   2.536276   1.177474  hourly\n",
       "19        Fox_parking_Tommie     parking   3.155471   1.812750   daily\n",
       "20        Fox_parking_Tommie     parking   3.463871   1.573460  weekly\n",
       "21      Gator_other_Gertrude       other   0.232520   0.051120  hourly\n",
       "22      Gator_other_Gertrude       other   1.070888   0.786288   daily\n",
       "23      Gator_other_Gertrude       other   1.404810   0.946556  weekly\n",
       "24           Hog_office_Bill      office  18.614739  10.711040  hourly\n",
       "25           Hog_office_Bill      office  46.933820  29.432126   daily\n",
       "26           Hog_office_Bill      office  60.590159  34.006334  weekly\n",
       "27       Hog_services_Kerrie    services   2.075842   1.448992  hourly\n",
       "28       Hog_services_Kerrie    services   3.061034   2.400821   daily\n",
       "29       Hog_services_Kerrie    services   3.818607   2.549373  weekly\n",
       "30      Hog_warehouse_Porsha   warehouse   1.958354   0.945058  hourly\n",
       "31      Hog_warehouse_Porsha   warehouse   2.141530   1.150929   daily\n",
       "32      Hog_warehouse_Porsha   warehouse   2.911756   1.397100  weekly\n",
       "33      Lamb_assembly_Bertie    assembly  17.967060  10.985065  hourly\n",
       "34      Lamb_assembly_Bertie    assembly  28.582859  22.667979   daily\n",
       "35      Lamb_assembly_Bertie    assembly  48.756165  28.608991  weekly\n",
       "36     Lamb_industrial_Carla  industrial  45.353234  30.321867  hourly\n",
       "37     Lamb_industrial_Carla  industrial  43.913538  31.891065   daily\n",
       "38     Lamb_industrial_Carla  industrial  53.681570  26.884887  weekly\n",
       "39   Peacock_lodging_Matthew     lodging   3.862391   2.968328  hourly\n",
       "40   Peacock_lodging_Matthew     lodging   4.518313   3.510761   daily\n",
       "41   Peacock_lodging_Matthew     lodging   8.428719   6.074870  weekly\n",
       "42        Rat_public_Loretta      public   2.925038   1.817659  hourly\n",
       "43        Rat_public_Loretta      public   9.891990   6.787990   daily\n",
       "44        Rat_public_Loretta      public  16.948175  12.082286  weekly\n",
       "45      Wolf_retail_Marcella      retail   1.187043   0.793767  hourly\n",
       "46      Wolf_retail_Marcella      retail   1.857042   1.375036   daily\n",
       "47      Wolf_retail_Marcella      retail   3.254573   2.155485  weekly"
      ]
     },
     "execution_count": 10,
     "metadata": {},
     "output_type": "execute_result"
    }
   ],
   "source": [
    "benchmark"
   ]
  },
  {
   "cell_type": "markdown",
   "id": "d6962caf",
   "metadata": {},
   "source": [
    "# TODO:\n",
    "\n",
    "get a set of building_ids that show up in the benchmarks csv"
   ]
  },
  {
   "cell_type": "markdown",
   "id": "7a7e3782",
   "metadata": {},
   "source": [
    "# General Analysis"
   ]
  },
  {
   "cell_type": "code",
   "execution_count": 11,
   "id": "822529f9",
   "metadata": {},
   "outputs": [
    {
     "data": {
      "text/html": [
       "<div>\n",
       "<style scoped>\n",
       "    .dataframe tbody tr th:only-of-type {\n",
       "        vertical-align: middle;\n",
       "    }\n",
       "\n",
       "    .dataframe tbody tr th {\n",
       "        vertical-align: top;\n",
       "    }\n",
       "\n",
       "    .dataframe thead th {\n",
       "        text-align: right;\n",
       "    }\n",
       "</style>\n",
       "<table border=\"1\" class=\"dataframe\">\n",
       "  <thead>\n",
       "    <tr style=\"text-align: right;\">\n",
       "      <th></th>\n",
       "      <th>building_id</th>\n",
       "      <th>site_id</th>\n",
       "      <th>building_id_kaggle</th>\n",
       "      <th>site_id_kaggle</th>\n",
       "      <th>primaryspaceusage</th>\n",
       "      <th>sub_primaryspaceusage</th>\n",
       "      <th>sqm</th>\n",
       "      <th>sqft</th>\n",
       "      <th>lat</th>\n",
       "      <th>lng</th>\n",
       "      <th>...</th>\n",
       "      <th>yearbuilt</th>\n",
       "      <th>date_opened</th>\n",
       "      <th>numberoffloors</th>\n",
       "      <th>occupants</th>\n",
       "      <th>energystarscore</th>\n",
       "      <th>eui</th>\n",
       "      <th>site_eui</th>\n",
       "      <th>source_eui</th>\n",
       "      <th>leed_level</th>\n",
       "      <th>rating</th>\n",
       "    </tr>\n",
       "  </thead>\n",
       "  <tbody>\n",
       "    <tr>\n",
       "      <th>1626</th>\n",
       "      <td>Cockatoo_assembly_Mimi</td>\n",
       "      <td>Cockatoo</td>\n",
       "      <td>1446.0</td>\n",
       "      <td>15.0</td>\n",
       "      <td>Entertainment/public assembly</td>\n",
       "      <td>Gymnasium</td>\n",
       "      <td>1046.6</td>\n",
       "      <td>11265.0</td>\n",
       "      <td>42.459837</td>\n",
       "      <td>-76.485292</td>\n",
       "      <td>...</td>\n",
       "      <td>1997.0</td>\n",
       "      <td>NaN</td>\n",
       "      <td>NaN</td>\n",
       "      <td>NaN</td>\n",
       "      <td>NaN</td>\n",
       "      <td>NaN</td>\n",
       "      <td>NaN</td>\n",
       "      <td>NaN</td>\n",
       "      <td>NaN</td>\n",
       "      <td>NaN</td>\n",
       "    </tr>\n",
       "    <tr>\n",
       "      <th>1627</th>\n",
       "      <td>Cockatoo_lodging_Jimmie</td>\n",
       "      <td>Cockatoo</td>\n",
       "      <td>1447.0</td>\n",
       "      <td>15.0</td>\n",
       "      <td>Lodging/residential</td>\n",
       "      <td>Dormitory</td>\n",
       "      <td>2766.2</td>\n",
       "      <td>29775.0</td>\n",
       "      <td>42.459837</td>\n",
       "      <td>-76.485292</td>\n",
       "      <td>...</td>\n",
       "      <td>2001.0</td>\n",
       "      <td>NaN</td>\n",
       "      <td>NaN</td>\n",
       "      <td>NaN</td>\n",
       "      <td>NaN</td>\n",
       "      <td>NaN</td>\n",
       "      <td>NaN</td>\n",
       "      <td>NaN</td>\n",
       "      <td>NaN</td>\n",
       "      <td>NaN</td>\n",
       "    </tr>\n",
       "    <tr>\n",
       "      <th>1628</th>\n",
       "      <td>Cockatoo_office_Margaret</td>\n",
       "      <td>Cockatoo</td>\n",
       "      <td>1448.0</td>\n",
       "      <td>15.0</td>\n",
       "      <td>Office</td>\n",
       "      <td>Office</td>\n",
       "      <td>8572.3</td>\n",
       "      <td>92271.0</td>\n",
       "      <td>42.459837</td>\n",
       "      <td>-76.485292</td>\n",
       "      <td>...</td>\n",
       "      <td>2001.0</td>\n",
       "      <td>NaN</td>\n",
       "      <td>NaN</td>\n",
       "      <td>NaN</td>\n",
       "      <td>NaN</td>\n",
       "      <td>NaN</td>\n",
       "      <td>NaN</td>\n",
       "      <td>NaN</td>\n",
       "      <td>NaN</td>\n",
       "      <td>NaN</td>\n",
       "    </tr>\n",
       "    <tr>\n",
       "      <th>1629</th>\n",
       "      <td>Mouse_health_Modesto</td>\n",
       "      <td>Mouse</td>\n",
       "      <td>NaN</td>\n",
       "      <td>NaN</td>\n",
       "      <td>Healthcare</td>\n",
       "      <td>Hospital</td>\n",
       "      <td>17993.0</td>\n",
       "      <td>193675.0</td>\n",
       "      <td>51.521939</td>\n",
       "      <td>-0.120069</td>\n",
       "      <td>...</td>\n",
       "      <td>1994.0</td>\n",
       "      <td>NaN</td>\n",
       "      <td>7.0</td>\n",
       "      <td>NaN</td>\n",
       "      <td>NaN</td>\n",
       "      <td>NaN</td>\n",
       "      <td>NaN</td>\n",
       "      <td>NaN</td>\n",
       "      <td>NaN</td>\n",
       "      <td>F</td>\n",
       "    </tr>\n",
       "    <tr>\n",
       "      <th>1630</th>\n",
       "      <td>Mouse_health_Justin</td>\n",
       "      <td>Mouse</td>\n",
       "      <td>NaN</td>\n",
       "      <td>NaN</td>\n",
       "      <td>Healthcare</td>\n",
       "      <td>Hospital</td>\n",
       "      <td>17735.0</td>\n",
       "      <td>190898.0</td>\n",
       "      <td>51.521939</td>\n",
       "      <td>-0.120069</td>\n",
       "      <td>...</td>\n",
       "      <td>2012.0</td>\n",
       "      <td>NaN</td>\n",
       "      <td>10.0</td>\n",
       "      <td>NaN</td>\n",
       "      <td>NaN</td>\n",
       "      <td>NaN</td>\n",
       "      <td>NaN</td>\n",
       "      <td>NaN</td>\n",
       "      <td>NaN</td>\n",
       "      <td>F</td>\n",
       "    </tr>\n",
       "    <tr>\n",
       "      <th>1631</th>\n",
       "      <td>Mouse_health_Estela</td>\n",
       "      <td>Mouse</td>\n",
       "      <td>NaN</td>\n",
       "      <td>NaN</td>\n",
       "      <td>Healthcare</td>\n",
       "      <td>Hospital</td>\n",
       "      <td>17193.0</td>\n",
       "      <td>185064.0</td>\n",
       "      <td>51.521939</td>\n",
       "      <td>-0.120069</td>\n",
       "      <td>...</td>\n",
       "      <td>1936.0</td>\n",
       "      <td>NaN</td>\n",
       "      <td>10.0</td>\n",
       "      <td>NaN</td>\n",
       "      <td>NaN</td>\n",
       "      <td>NaN</td>\n",
       "      <td>NaN</td>\n",
       "      <td>NaN</td>\n",
       "      <td>NaN</td>\n",
       "      <td>F</td>\n",
       "    </tr>\n",
       "    <tr>\n",
       "      <th>1632</th>\n",
       "      <td>Mouse_health_Ileana</td>\n",
       "      <td>Mouse</td>\n",
       "      <td>NaN</td>\n",
       "      <td>NaN</td>\n",
       "      <td>Healthcare</td>\n",
       "      <td>Hospital</td>\n",
       "      <td>5399.0</td>\n",
       "      <td>58114.0</td>\n",
       "      <td>51.521939</td>\n",
       "      <td>-0.120069</td>\n",
       "      <td>...</td>\n",
       "      <td>1954.0</td>\n",
       "      <td>NaN</td>\n",
       "      <td>6.0</td>\n",
       "      <td>NaN</td>\n",
       "      <td>NaN</td>\n",
       "      <td>NaN</td>\n",
       "      <td>NaN</td>\n",
       "      <td>NaN</td>\n",
       "      <td>NaN</td>\n",
       "      <td>F</td>\n",
       "    </tr>\n",
       "    <tr>\n",
       "      <th>1633</th>\n",
       "      <td>Mouse_health_Buddy</td>\n",
       "      <td>Mouse</td>\n",
       "      <td>NaN</td>\n",
       "      <td>NaN</td>\n",
       "      <td>Healthcare</td>\n",
       "      <td>Hospital</td>\n",
       "      <td>1749.0</td>\n",
       "      <td>18826.0</td>\n",
       "      <td>51.521939</td>\n",
       "      <td>-0.120069</td>\n",
       "      <td>...</td>\n",
       "      <td>NaN</td>\n",
       "      <td>NaN</td>\n",
       "      <td>8.0</td>\n",
       "      <td>NaN</td>\n",
       "      <td>NaN</td>\n",
       "      <td>NaN</td>\n",
       "      <td>NaN</td>\n",
       "      <td>NaN</td>\n",
       "      <td>NaN</td>\n",
       "      <td>F</td>\n",
       "    </tr>\n",
       "    <tr>\n",
       "      <th>1634</th>\n",
       "      <td>Mouse_lodging_Vicente</td>\n",
       "      <td>Mouse</td>\n",
       "      <td>NaN</td>\n",
       "      <td>NaN</td>\n",
       "      <td>Lodging/residential</td>\n",
       "      <td>Hotel</td>\n",
       "      <td>3489.0</td>\n",
       "      <td>37555.0</td>\n",
       "      <td>51.521939</td>\n",
       "      <td>-0.120069</td>\n",
       "      <td>...</td>\n",
       "      <td>2006.0</td>\n",
       "      <td>NaN</td>\n",
       "      <td>7.0</td>\n",
       "      <td>NaN</td>\n",
       "      <td>NaN</td>\n",
       "      <td>NaN</td>\n",
       "      <td>NaN</td>\n",
       "      <td>NaN</td>\n",
       "      <td>NaN</td>\n",
       "      <td>F</td>\n",
       "    </tr>\n",
       "    <tr>\n",
       "      <th>1635</th>\n",
       "      <td>Mouse_science_Micheal</td>\n",
       "      <td>Mouse</td>\n",
       "      <td>NaN</td>\n",
       "      <td>NaN</td>\n",
       "      <td>Technology/science</td>\n",
       "      <td>Laboratory</td>\n",
       "      <td>5931.0</td>\n",
       "      <td>63841.0</td>\n",
       "      <td>51.521939</td>\n",
       "      <td>-0.120069</td>\n",
       "      <td>...</td>\n",
       "      <td>1996.0</td>\n",
       "      <td>NaN</td>\n",
       "      <td>7.0</td>\n",
       "      <td>NaN</td>\n",
       "      <td>NaN</td>\n",
       "      <td>NaN</td>\n",
       "      <td>NaN</td>\n",
       "      <td>NaN</td>\n",
       "      <td>NaN</td>\n",
       "      <td>F</td>\n",
       "    </tr>\n",
       "  </tbody>\n",
       "</table>\n",
       "<p>10 rows × 32 columns</p>\n",
       "</div>"
      ],
      "text/plain": [
       "                   building_id   site_id  building_id_kaggle  site_id_kaggle  \\\n",
       "1626    Cockatoo_assembly_Mimi  Cockatoo              1446.0            15.0   \n",
       "1627   Cockatoo_lodging_Jimmie  Cockatoo              1447.0            15.0   \n",
       "1628  Cockatoo_office_Margaret  Cockatoo              1448.0            15.0   \n",
       "1629      Mouse_health_Modesto     Mouse                 NaN             NaN   \n",
       "1630       Mouse_health_Justin     Mouse                 NaN             NaN   \n",
       "1631       Mouse_health_Estela     Mouse                 NaN             NaN   \n",
       "1632       Mouse_health_Ileana     Mouse                 NaN             NaN   \n",
       "1633        Mouse_health_Buddy     Mouse                 NaN             NaN   \n",
       "1634     Mouse_lodging_Vicente     Mouse                 NaN             NaN   \n",
       "1635     Mouse_science_Micheal     Mouse                 NaN             NaN   \n",
       "\n",
       "                  primaryspaceusage sub_primaryspaceusage      sqm      sqft  \\\n",
       "1626  Entertainment/public assembly             Gymnasium   1046.6   11265.0   \n",
       "1627            Lodging/residential             Dormitory   2766.2   29775.0   \n",
       "1628                         Office                Office   8572.3   92271.0   \n",
       "1629                     Healthcare              Hospital  17993.0  193675.0   \n",
       "1630                     Healthcare              Hospital  17735.0  190898.0   \n",
       "1631                     Healthcare              Hospital  17193.0  185064.0   \n",
       "1632                     Healthcare              Hospital   5399.0   58114.0   \n",
       "1633                     Healthcare              Hospital   1749.0   18826.0   \n",
       "1634            Lodging/residential                 Hotel   3489.0   37555.0   \n",
       "1635             Technology/science            Laboratory   5931.0   63841.0   \n",
       "\n",
       "            lat        lng  ... yearbuilt date_opened numberoffloors  \\\n",
       "1626  42.459837 -76.485292  ...    1997.0         NaN            NaN   \n",
       "1627  42.459837 -76.485292  ...    2001.0         NaN            NaN   \n",
       "1628  42.459837 -76.485292  ...    2001.0         NaN            NaN   \n",
       "1629  51.521939  -0.120069  ...    1994.0         NaN            7.0   \n",
       "1630  51.521939  -0.120069  ...    2012.0         NaN           10.0   \n",
       "1631  51.521939  -0.120069  ...    1936.0         NaN           10.0   \n",
       "1632  51.521939  -0.120069  ...    1954.0         NaN            6.0   \n",
       "1633  51.521939  -0.120069  ...       NaN         NaN            8.0   \n",
       "1634  51.521939  -0.120069  ...    2006.0         NaN            7.0   \n",
       "1635  51.521939  -0.120069  ...    1996.0         NaN            7.0   \n",
       "\n",
       "     occupants energystarscore  eui site_eui source_eui leed_level rating  \n",
       "1626       NaN             NaN  NaN      NaN        NaN        NaN    NaN  \n",
       "1627       NaN             NaN  NaN      NaN        NaN        NaN    NaN  \n",
       "1628       NaN             NaN  NaN      NaN        NaN        NaN    NaN  \n",
       "1629       NaN             NaN  NaN      NaN        NaN        NaN      F  \n",
       "1630       NaN             NaN  NaN      NaN        NaN        NaN      F  \n",
       "1631       NaN             NaN  NaN      NaN        NaN        NaN      F  \n",
       "1632       NaN             NaN  NaN      NaN        NaN        NaN      F  \n",
       "1633       NaN             NaN  NaN      NaN        NaN        NaN      F  \n",
       "1634       NaN             NaN  NaN      NaN        NaN        NaN      F  \n",
       "1635       NaN             NaN  NaN      NaN        NaN        NaN      F  \n",
       "\n",
       "[10 rows x 32 columns]"
      ]
     },
     "execution_count": 11,
     "metadata": {},
     "output_type": "execute_result"
    }
   ],
   "source": [
    "# How many different categories of buildings do we have?\n",
    "metadata.tail(10)"
   ]
  },
  {
   "cell_type": "code",
   "execution_count": 12,
   "id": "a161c475",
   "metadata": {},
   "outputs": [
    {
     "name": "stdout",
     "output_type": "stream",
     "text": [
      "Amount of categories:  17\n"
     ]
    },
    {
     "data": {
      "text/plain": [
       "primaryspaceusage\n",
       "Education                        617\n",
       "Entertainment/public assembly    204\n",
       "Food sales and service             6\n",
       "Healthcare                        29\n",
       "Lodging/residential              168\n",
       "Manufacturing/industrial          13\n",
       "Office                           307\n",
       "Other                             29\n",
       "Parking                           24\n",
       "Public services                  166\n",
       "Religious worship                  3\n",
       "Retail                            12\n",
       "Services                          11\n",
       "Technology/science                 7\n",
       "Utility                            4\n",
       "Warehouse/storage                 15\n",
       "Name: building_id, dtype: int64"
      ]
     },
     "execution_count": 12,
     "metadata": {},
     "output_type": "execute_result"
    }
   ],
   "source": [
    "# Check the categories and the amount of buildings per category\n",
    "categories = metadata['primaryspaceusage'].unique()\n",
    "print(\"Amount of categories: \", len(categories))\n",
    "\n",
    "metadata.groupby('primaryspaceusage')['building_id'].count()"
   ]
  },
  {
   "cell_type": "code",
   "execution_count": 13,
   "id": "5c2a4a26",
   "metadata": {
    "scrolled": false
   },
   "outputs": [
    {
     "data": {
      "text/plain": [
       "671    Yes\n",
       "Name: electricity, dtype: object"
      ]
     },
     "execution_count": 13,
     "metadata": {},
     "output_type": "execute_result"
    }
   ],
   "source": [
    "metadata.loc[metadata['building_id'] == 'Bear_utility_Sidney']['electricity']"
   ]
  },
  {
   "cell_type": "markdown",
   "id": "5766f7e1",
   "metadata": {},
   "source": [
    "## Load specific dataset of one location"
   ]
  },
  {
   "cell_type": "code",
   "execution_count": 14,
   "id": "a09fe136",
   "metadata": {},
   "outputs": [],
   "source": [
    "poc = complete_data_cleaned.loc[complete_data_cleaned['building_id']  == 'Bear_utility_Sidney']"
   ]
  },
  {
   "cell_type": "code",
   "execution_count": 15,
   "id": "7ba081ef",
   "metadata": {
    "scrolled": true
   },
   "outputs": [
    {
     "data": {
      "text/html": [
       "<div>\n",
       "<style scoped>\n",
       "    .dataframe tbody tr th:only-of-type {\n",
       "        vertical-align: middle;\n",
       "    }\n",
       "\n",
       "    .dataframe tbody tr th {\n",
       "        vertical-align: top;\n",
       "    }\n",
       "\n",
       "    .dataframe thead th {\n",
       "        text-align: right;\n",
       "    }\n",
       "</style>\n",
       "<table border=\"1\" class=\"dataframe\">\n",
       "  <thead>\n",
       "    <tr style=\"text-align: right;\">\n",
       "      <th></th>\n",
       "      <th>timestamp</th>\n",
       "      <th>building_id</th>\n",
       "      <th>meter_reading</th>\n",
       "      <th>meter</th>\n",
       "    </tr>\n",
       "  </thead>\n",
       "  <tbody>\n",
       "    <tr>\n",
       "      <th>21561576</th>\n",
       "      <td>2016-01-01 00:00:00</td>\n",
       "      <td>Bear_utility_Sidney</td>\n",
       "      <td>53.0325</td>\n",
       "      <td>electricity_cleaned</td>\n",
       "    </tr>\n",
       "    <tr>\n",
       "      <th>21561577</th>\n",
       "      <td>2016-01-01 01:00:00</td>\n",
       "      <td>Bear_utility_Sidney</td>\n",
       "      <td>54.5325</td>\n",
       "      <td>electricity_cleaned</td>\n",
       "    </tr>\n",
       "    <tr>\n",
       "      <th>21561578</th>\n",
       "      <td>2016-01-01 02:00:00</td>\n",
       "      <td>Bear_utility_Sidney</td>\n",
       "      <td>55.1525</td>\n",
       "      <td>electricity_cleaned</td>\n",
       "    </tr>\n",
       "    <tr>\n",
       "      <th>21561579</th>\n",
       "      <td>2016-01-01 03:00:00</td>\n",
       "      <td>Bear_utility_Sidney</td>\n",
       "      <td>54.0900</td>\n",
       "      <td>electricity_cleaned</td>\n",
       "    </tr>\n",
       "    <tr>\n",
       "      <th>21561580</th>\n",
       "      <td>2016-01-01 04:00:00</td>\n",
       "      <td>Bear_utility_Sidney</td>\n",
       "      <td>53.9325</td>\n",
       "      <td>electricity_cleaned</td>\n",
       "    </tr>\n",
       "  </tbody>\n",
       "</table>\n",
       "</div>"
      ],
      "text/plain": [
       "                    timestamp          building_id  meter_reading  \\\n",
       "21561576  2016-01-01 00:00:00  Bear_utility_Sidney        53.0325   \n",
       "21561577  2016-01-01 01:00:00  Bear_utility_Sidney        54.5325   \n",
       "21561578  2016-01-01 02:00:00  Bear_utility_Sidney        55.1525   \n",
       "21561579  2016-01-01 03:00:00  Bear_utility_Sidney        54.0900   \n",
       "21561580  2016-01-01 04:00:00  Bear_utility_Sidney        53.9325   \n",
       "\n",
       "                        meter  \n",
       "21561576  electricity_cleaned  \n",
       "21561577  electricity_cleaned  \n",
       "21561578  electricity_cleaned  \n",
       "21561579  electricity_cleaned  \n",
       "21561580  electricity_cleaned  "
      ]
     },
     "execution_count": 15,
     "metadata": {},
     "output_type": "execute_result"
    }
   ],
   "source": [
    "poc.head()"
   ]
  },
  {
   "cell_type": "code",
   "execution_count": 16,
   "id": "85884e77",
   "metadata": {},
   "outputs": [],
   "source": [
    "poc_electricity = poc.loc[poc['meter'] == 'electricity_cleaned']"
   ]
  },
  {
   "cell_type": "code",
   "execution_count": 17,
   "id": "4fd63890",
   "metadata": {
    "scrolled": true
   },
   "outputs": [
    {
     "data": {
      "image/png": "[encoded data removed]",
      "text/plain": [
       "<Figure size 864x288 with 1 Axes>"
      ]
     },
     "metadata": {
      "needs_background": "dark"
     },
     "output_type": "display_data"
    }
   ],
   "source": [
    "plt.figure(figsize=(12,4))\n",
    "\n",
    "# use a gray background\n",
    "ax = plt.axes()\n",
    "ax.set_axisbelow(True)\n",
    "ax.set_xlabel('Time')\n",
    "ax.xaxis.label.set_color('gray')\n",
    "ax.set_ylabel('Meter reading')\n",
    "ax.yaxis.label.set_color('gray')\n",
    "\n",
    "\n",
    "# draw solid white grid lines\n",
    "plt.grid(color='w', linestyle='solid')\n",
    "\n",
    "# hide axis spines\n",
    "for spine in ax.spines.values():\n",
    "    spine.set_visible(False)\n",
    "    \n",
    "# hide top and right ticks\n",
    "ax.xaxis.tick_bottom()\n",
    "ax.yaxis.tick_left()\n",
    "\n",
    "# lighten ticks and labels\n",
    "ax.tick_params(colors='gray', direction='out')\n",
    "for tick in ax.get_xticklabels():\n",
    "    tick.set_color('gray')\n",
    "for tick in ax.get_yticklabels():\n",
    "    tick.set_color('gray')\n",
    "\n",
    "    \n",
    "plt.plot(poc_electricity['meter_reading'])\n",
    "plt.show()"
   ]
  },
  {
   "cell_type": "code",
   "execution_count": 18,
   "id": "aaa6477b",
   "metadata": {
    "scrolled": false
   },
   "outputs": [
    {
     "data": {
      "text/html": [
       "<div>\n",
       "<style scoped>\n",
       "    .dataframe tbody tr th:only-of-type {\n",
       "        vertical-align: middle;\n",
       "    }\n",
       "\n",
       "    .dataframe tbody tr th {\n",
       "        vertical-align: top;\n",
       "    }\n",
       "\n",
       "    .dataframe thead th {\n",
       "        text-align: right;\n",
       "    }\n",
       "</style>\n",
       "<table border=\"1\" class=\"dataframe\">\n",
       "  <thead>\n",
       "    <tr style=\"text-align: right;\">\n",
       "      <th></th>\n",
       "      <th>timestamp</th>\n",
       "      <th>building_id</th>\n",
       "      <th>meter_reading</th>\n",
       "      <th>meter</th>\n",
       "    </tr>\n",
       "  </thead>\n",
       "  <tbody>\n",
       "    <tr>\n",
       "      <th>21561576</th>\n",
       "      <td>2016-01-01 00:00:00</td>\n",
       "      <td>Bear_utility_Sidney</td>\n",
       "      <td>53.0325</td>\n",
       "      <td>electricity_cleaned</td>\n",
       "    </tr>\n",
       "    <tr>\n",
       "      <th>21561577</th>\n",
       "      <td>2016-01-01 01:00:00</td>\n",
       "      <td>Bear_utility_Sidney</td>\n",
       "      <td>54.5325</td>\n",
       "      <td>electricity_cleaned</td>\n",
       "    </tr>\n",
       "    <tr>\n",
       "      <th>21561578</th>\n",
       "      <td>2016-01-01 02:00:00</td>\n",
       "      <td>Bear_utility_Sidney</td>\n",
       "      <td>55.1525</td>\n",
       "      <td>electricity_cleaned</td>\n",
       "    </tr>\n",
       "    <tr>\n",
       "      <th>21561579</th>\n",
       "      <td>2016-01-01 03:00:00</td>\n",
       "      <td>Bear_utility_Sidney</td>\n",
       "      <td>54.0900</td>\n",
       "      <td>electricity_cleaned</td>\n",
       "    </tr>\n",
       "    <tr>\n",
       "      <th>21561580</th>\n",
       "      <td>2016-01-01 04:00:00</td>\n",
       "      <td>Bear_utility_Sidney</td>\n",
       "      <td>53.9325</td>\n",
       "      <td>electricity_cleaned</td>\n",
       "    </tr>\n",
       "    <tr>\n",
       "      <th>...</th>\n",
       "      <td>...</td>\n",
       "      <td>...</td>\n",
       "      <td>...</td>\n",
       "      <td>...</td>\n",
       "    </tr>\n",
       "    <tr>\n",
       "      <th>21579115</th>\n",
       "      <td>2017-12-31 19:00:00</td>\n",
       "      <td>Bear_utility_Sidney</td>\n",
       "      <td>50.9025</td>\n",
       "      <td>electricity_cleaned</td>\n",
       "    </tr>\n",
       "    <tr>\n",
       "      <th>21579116</th>\n",
       "      <td>2017-12-31 20:00:00</td>\n",
       "      <td>Bear_utility_Sidney</td>\n",
       "      <td>52.1300</td>\n",
       "      <td>electricity_cleaned</td>\n",
       "    </tr>\n",
       "    <tr>\n",
       "      <th>21579117</th>\n",
       "      <td>2017-12-31 21:00:00</td>\n",
       "      <td>Bear_utility_Sidney</td>\n",
       "      <td>51.1325</td>\n",
       "      <td>electricity_cleaned</td>\n",
       "    </tr>\n",
       "    <tr>\n",
       "      <th>21579118</th>\n",
       "      <td>2017-12-31 22:00:00</td>\n",
       "      <td>Bear_utility_Sidney</td>\n",
       "      <td>51.1800</td>\n",
       "      <td>electricity_cleaned</td>\n",
       "    </tr>\n",
       "    <tr>\n",
       "      <th>21579119</th>\n",
       "      <td>2017-12-31 23:00:00</td>\n",
       "      <td>Bear_utility_Sidney</td>\n",
       "      <td>51.1300</td>\n",
       "      <td>electricity_cleaned</td>\n",
       "    </tr>\n",
       "  </tbody>\n",
       "</table>\n",
       "<p>17544 rows × 4 columns</p>\n",
       "</div>"
      ],
      "text/plain": [
       "                    timestamp          building_id  meter_reading  \\\n",
       "21561576  2016-01-01 00:00:00  Bear_utility_Sidney        53.0325   \n",
       "21561577  2016-01-01 01:00:00  Bear_utility_Sidney        54.5325   \n",
       "21561578  2016-01-01 02:00:00  Bear_utility_Sidney        55.1525   \n",
       "21561579  2016-01-01 03:00:00  Bear_utility_Sidney        54.0900   \n",
       "21561580  2016-01-01 04:00:00  Bear_utility_Sidney        53.9325   \n",
       "...                       ...                  ...            ...   \n",
       "21579115  2017-12-31 19:00:00  Bear_utility_Sidney        50.9025   \n",
       "21579116  2017-12-31 20:00:00  Bear_utility_Sidney        52.1300   \n",
       "21579117  2017-12-31 21:00:00  Bear_utility_Sidney        51.1325   \n",
       "21579118  2017-12-31 22:00:00  Bear_utility_Sidney        51.1800   \n",
       "21579119  2017-12-31 23:00:00  Bear_utility_Sidney        51.1300   \n",
       "\n",
       "                        meter  \n",
       "21561576  electricity_cleaned  \n",
       "21561577  electricity_cleaned  \n",
       "21561578  electricity_cleaned  \n",
       "21561579  electricity_cleaned  \n",
       "21561580  electricity_cleaned  \n",
       "...                       ...  \n",
       "21579115  electricity_cleaned  \n",
       "21579116  electricity_cleaned  \n",
       "21579117  electricity_cleaned  \n",
       "21579118  electricity_cleaned  \n",
       "21579119  electricity_cleaned  \n",
       "\n",
       "[17544 rows x 4 columns]"
      ]
     },
     "execution_count": 18,
     "metadata": {},
     "output_type": "execute_result"
    }
   ],
   "source": [
    "poc_electricity"
   ]
  },
  {
   "cell_type": "code",
   "execution_count": 19,
   "id": "8d7db676",
   "metadata": {},
   "outputs": [],
   "source": [
    "train, test = train_test_split(poc_electricity, test_size=0.3)"
   ]
  },
  {
   "cell_type": "markdown",
   "id": "dd497f0d",
   "metadata": {},
   "source": [
    "# Forecasting with Fast Fourier Transformation - Idea dump "
   ]
  },
  {
   "cell_type": "markdown",
   "id": "2c3e5c04",
   "metadata": {},
   "source": [
    "### TODO\n",
    "#### Come up with a strategy to handle nan values\n",
    "\n",
    "Currently - just drop them"
   ]
  },
  {
   "cell_type": "raw",
   "id": "e45a2872",
   "metadata": {},
   "source": [
    "Fourier Transformation - to detect seaonality and trends in the data. Then forecast each decomposed signal and put it back together: \n",
    "\n",
    "\n",
    "Step 1: Run FFT on input data\n",
    "Step 2: Filter out low amplitude, high frequency components\n",
    "Step 3: Forecast on each individual component\n",
    "Step 4: Run inverse FFT of filtered data"
   ]
  },
  {
   "cell_type": "markdown",
   "id": "7cbf4988",
   "metadata": {},
   "source": [
    "# Preprocessing\n"
   ]
  },
  {
   "cell_type": "code",
   "execution_count": 20,
   "id": "734aa44d",
   "metadata": {},
   "outputs": [],
   "source": [
    "from scipy.fft import fft, fftfreq\n",
    "from scipy.fft import rfft, rfftfreq\n",
    "from scipy.fft import ifft, irfft\n",
    "\n",
    "from sklearn.metrics import mean_squared_error, mean_absolute_error"
   ]
  },
  {
   "cell_type": "markdown",
   "id": "3d5285f1",
   "metadata": {},
   "source": [
    "### Helper functions"
   ]
  },
  {
   "cell_type": "code",
   "execution_count": 21,
   "id": "8f7bc14b",
   "metadata": {},
   "outputs": [],
   "source": [
    "# function to center data\n",
    "center_function = lambda x: x - x.mean()"
   ]
  },
  {
   "cell_type": "code",
   "execution_count": 22,
   "id": "42acf1f4",
   "metadata": {},
   "outputs": [],
   "source": [
    "def generate_sine_wave(freq, sample_rate, duration, amplitude):\n",
    "    x = np.linspace(0, duration, sample_rate * duration, endpoint=False)\n",
    "    frequencies = x * freq\n",
    "    # 2pi because np.sin takes radians\n",
    "    y = np.sin((2 * np.pi) * frequencies) * amplitude\n",
    "    return x, y"
   ]
  },
  {
   "cell_type": "markdown",
   "id": "55b0f5a4",
   "metadata": {},
   "source": [
    "### Visual Inspection of the signal"
   ]
  },
  {
   "cell_type": "code",
   "execution_count": 23,
   "id": "6393b854",
   "metadata": {
    "scrolled": false
   },
   "outputs": [
    {
     "data": {
      "image/png": "[encoded data removed]",
      "text/plain": [
       "<Figure size 432x288 with 1 Axes>"
      ]
     },
     "metadata": {
      "needs_background": "light"
     },
     "output_type": "display_data"
    }
   ],
   "source": [
    "plt.plot(poc_electricity['meter_reading'].to_numpy())\n",
    "plt.show()"
   ]
  },
  {
   "cell_type": "markdown",
   "id": "6974981f",
   "metadata": {},
   "source": [
    "### Data cleaning"
   ]
  },
  {
   "cell_type": "code",
   "execution_count": 24,
   "id": "944b20a8",
   "metadata": {},
   "outputs": [
    {
     "name": "stdout",
     "output_type": "stream",
     "text": [
      "Amount of NaN values in the signal:  73\n",
      "Fraction of NaN values in the signal:  0.004160966712266302\n"
     ]
    }
   ],
   "source": [
    "# The raw metering data from the dataset \n",
    "raw_signal = poc_electricity['meter_reading'].to_numpy()\n",
    "\n",
    "# Insepction of missing values\n",
    "print(\"Amount of NaN values in the signal: \", np.isnan(raw_signal).sum())\n",
    "print(\"Fraction of NaN values in the signal: \", np.isnan(raw_signal).sum()/ np.size(raw_signal))"
   ]
  },
  {
   "cell_type": "code",
   "execution_count": 25,
   "id": "f79eaccc",
   "metadata": {
    "scrolled": true
   },
   "outputs": [
    {
     "data": {
      "image/png": "[encoded data removed]",
      "text/plain": [
       "<Figure size 432x288 with 1 Axes>"
      ]
     },
     "metadata": {
      "needs_background": "light"
     },
     "output_type": "display_data"
    }
   ],
   "source": [
    "# Drop missing values as described in the provided notebook 10_Cleaned_dataset.ipyn of the repository\n",
    "poc_electricity_no_nans = poc_electricity.dropna()\n",
    "\n",
    "# Covnert the data into a numpy array and then center the data such that the values distributed around 0 \n",
    "signal = center_function(poc_electricity_no_nans['meter_reading'].to_numpy())\n",
    "\n",
    "# Plot the signal\n",
    "plt.plot(signal)\n",
    "plt.show()"
   ]
  },
  {
   "cell_type": "markdown",
   "id": "fb47c733",
   "metadata": {},
   "source": [
    "### Specifiy variables for decomposition and reconstruction"
   ]
  },
  {
   "cell_type": "code",
   "execution_count": 26,
   "id": "2d651031",
   "metadata": {},
   "outputs": [],
   "source": [
    "# Split into train and test samples \n",
    "train, test = train_test_split(signal, test_size=0.3, shuffle = False, )"
   ]
  },
  {
   "cell_type": "code",
   "execution_count": 27,
   "id": "2db85123",
   "metadata": {},
   "outputs": [],
   "source": [
    "# The amount of datapoints the signal contains\n",
    "datapoints = np.size(train)\n",
    "\n",
    "# The minimal required sampling rate for this signal\n",
    "sampling_rate = datapoints\n",
    "\n",
    "# Desired extended timespan\n",
    "extended_length = 100"
   ]
  },
  {
   "cell_type": "markdown",
   "id": "3366e0a2",
   "metadata": {},
   "source": [
    "# Fast Fourier Decomposition\n"
   ]
  },
  {
   "cell_type": "code",
   "execution_count": 40,
   "id": "c3b43e0c",
   "metadata": {
    "scrolled": true
   },
   "outputs": [
    {
     "data": {
      "image/png": "[encoded data removed]",
      "text/plain": [
       "<Figure size 432x288 with 1 Axes>"
      ]
     },
     "metadata": {
      "needs_background": "light"
     },
     "output_type": "display_data"
    }
   ],
   "source": [
    "# Apply Fast Fourier Transformation for real valued inputs to obtain the frequency spectrum\n",
    "# TODO: rename to frequency_spectrum\n",
    "yf = rfft(train)\n",
    "# Apply cooresponding Discrete Fourier Transform to obtain the bins as sample frequencies\n",
    "# TODO: rename to sample_frequencies\n",
    "xf = rfftfreq(datapoints, 1 /sampling_rate)\n",
    "\n",
    "# Plot the result of the Fast Fourier Transformation and its according sample frequencies\n",
    "# Note we call np.abs() because rfft provides complex numbers as a result, \n",
    "# but for visualisation we are only intereseted in the real valued part\n",
    "plt.plot(xf, np.abs(yf))\n",
    "plt.show()"
   ]
  },
  {
   "cell_type": "code",
   "execution_count": 41,
   "id": "662220cf",
   "metadata": {
    "scrolled": false
   },
   "outputs": [
    {
     "data": {
      "image/png": "[encoded data removed]",
      "text/plain": [
       "<Figure size 432x288 with 1 Axes>"
      ]
     },
     "metadata": {
      "needs_background": "light"
     },
     "output_type": "display_data"
    }
   ],
   "source": [
    "# Apply Fast Fourier Transformation for real valued inputs to obtain the frequency spectrum\n",
    "# TODO: rename to frequency_spectrum\n",
    "yf = rfft(signal)\n",
    "# Apply cooresponding Discrete Fourier Transform to obtain the bins as sample frequencies\n",
    "# TODO: rename to sample_frequencies\n",
    "xf = rfftfreq(np.size(signal), 1 /sampling_rate)\n",
    "\n",
    "# Plot the result of the Fast Fourier Transformation and its according sample frequencies\n",
    "# Note we call np.abs() because rfft provides complex numbers as a result, \n",
    "# but for visualisation we are only intereseted in the real valued part\n",
    "plt.plot(xf, np.abs(yf))\n",
    "plt.show()"
   ]
  },
  {
   "cell_type": "code",
   "execution_count": 87,
   "id": "969d8e10",
   "metadata": {
    "scrolled": false
   },
   "outputs": [
    {
     "data": {
      "image/png": "[encoded data removed]",
      "text/plain": [
       "<Figure size 432x288 with 1 Axes>"
      ]
     },
     "metadata": {
      "needs_background": "light"
     },
     "output_type": "display_data"
    }
   ],
   "source": [
    "# Plot the same result of the Fast Fourier Transformation scaled between 0 and 1\n",
    "# TODO - not quite!\n",
    "scale = 0.7/datapoints \n",
    "scaled_yf = scale * np.abs(yf)\n",
    "plt.plot(xf, scaled_yf)\n",
    "plt.show()"
   ]
  },
  {
   "cell_type": "code",
   "execution_count": 55,
   "id": "eacf4d16",
   "metadata": {},
   "outputs": [
    {
     "data": {
      "text/plain": [
       "8736"
      ]
     },
     "execution_count": 55,
     "metadata": {},
     "output_type": "execute_result"
    }
   ],
   "source": [
    "np.size(yf)"
   ]
  },
  {
   "cell_type": "markdown",
   "id": "c2091d58",
   "metadata": {},
   "source": [
    "# Forecasting - Extension of the signal and reconstruction - naive approach\n"
   ]
  },
  {
   "cell_type": "code",
   "execution_count": 103,
   "id": "78ffc07f",
   "metadata": {
    "scrolled": true
   },
   "outputs": [],
   "source": [
    "max_yf = np.max(yf)\n",
    "np.size(np.argwhere(np.abs(yf)> 0.01 * max_yf))\n",
    "extended_timespan = datapoints + 24\n",
    "output_signal = np.zeros(extended_timespan)\n",
    "for index, freq in enumerate(np.abs(yf)):\n",
    "    \n",
    "    _, y = generate_sine_wave(freq, 1, extended_timespan, np.abs(yf[index]) * 1/np.size(yf))\n",
    "    output_signal += y"
   ]
  },
  {
   "cell_type": "code",
   "execution_count": 104,
   "id": "0584ee0f",
   "metadata": {
    "scrolled": false
   },
   "outputs": [
    {
     "data": {
      "text/plain": [
       "[<matplotlib.lines.Line2D at 0x1b38e797a60>]"
      ]
     },
     "execution_count": 104,
     "metadata": {},
     "output_type": "execute_result"
    },
    {
     "data": {
      "image/png": "[encoded data removed]",
      "text/plain": [
       "<Figure size 432x288 with 1 Axes>"
      ]
     },
     "metadata": {
      "needs_background": "light"
     },
     "output_type": "display_data"
    }
   ],
   "source": [
    "plt.plot(train)"
   ]
  },
  {
   "cell_type": "code",
   "execution_count": 105,
   "id": "66f65c2e",
   "metadata": {
    "scrolled": true
   },
   "outputs": [
    {
     "data": {
      "text/plain": [
       "[<matplotlib.lines.Line2D at 0x1b38ea10280>]"
      ]
     },
     "execution_count": 105,
     "metadata": {},
     "output_type": "execute_result"
    },
    {
     "data": {
      "image/png": "[encoded data removed]",
      "text/plain": [
       "<Figure size 432x288 with 1 Axes>"
      ]
     },
     "metadata": {
      "needs_background": "light"
     },
     "output_type": "display_data"
    }
   ],
   "source": [
    "#plt.plot(train[-30:])\n",
    "plt.plot(output_signal)"
   ]
  },
  {
   "cell_type": "code",
   "execution_count": 99,
   "id": "041ecb8c",
   "metadata": {},
   "outputs": [
    {
     "data": {
      "text/plain": [
       "[<matplotlib.lines.Line2D at 0x1b38decd1c0>]"
      ]
     },
     "execution_count": 99,
     "metadata": {},
     "output_type": "execute_result"
    },
    {
     "data": {
      "image/png": "[encoded data removed]",
      "text/plain": [
       "<Figure size 432x288 with 1 Axes>"
      ]
     },
     "metadata": {
      "needs_background": "light"
     },
     "output_type": "display_data"
    }
   ],
   "source": [
    "plt.plot(train[:30])\n",
    "plt.plot(output_signal[:30])"
   ]
  },
  {
   "cell_type": "markdown",
   "id": "13626ff1",
   "metadata": {},
   "source": [
    "# Forecasting - Extension of the signal and reconstruction\n"
   ]
  },
  {
   "cell_type": "code",
   "execution_count": null,
   "id": "07319e12",
   "metadata": {},
   "outputs": [],
   "source": []
  },
  {
   "cell_type": "code",
   "execution_count": 32,
   "id": "3e962c88",
   "metadata": {},
   "outputs": [],
   "source": [
    "# Before reconstruction/applying inverse fourier transformation we need to extend our frequency domain and add some padding\n",
    "# in order to predict into the future\n",
    "\n",
    "# Extend the frequncy spectrum with 0 at the end for the given length defined above in the constant extended_length\n",
    "extended_transformed_signal = np.pad(yf, (0, extended_length), 'constant')"
   ]
  },
  {
   "cell_type": "code",
   "execution_count": 33,
   "id": "5ebc5e1b",
   "metadata": {},
   "outputs": [],
   "source": [
    "predicted_signal = irfft(extended_transformed_signal)"
   ]
  },
  {
   "cell_type": "code",
   "execution_count": 47,
   "id": "17075131",
   "metadata": {
    "scrolled": true
   },
   "outputs": [
    {
     "name": "stdout",
     "output_type": "stream",
     "text": [
      "4.487876597165163\n"
     ]
    }
   ],
   "source": [
    "mse = mean_squared_error(train, predicted_signal[0:-199])\n",
    "rmse = math.sqrt(mse)\n",
    "print(rmse)"
   ]
  },
  {
   "cell_type": "code",
   "execution_count": 49,
   "id": "5f7bfdba",
   "metadata": {
    "scrolled": true
   },
   "outputs": [
    {
     "data": {
      "image/png": "[encoded data removed]",
      "text/plain": [
       "<Figure size 432x288 with 1 Axes>"
      ]
     },
     "metadata": {
      "needs_background": "light"
     },
     "output_type": "display_data"
    }
   ],
   "source": [
    "plt.plot(train[-50:])\n",
    "plt.plot(predicted_signal[-50:])\n",
    "plt.show()"
   ]
  },
  {
   "cell_type": "code",
   "execution_count": null,
   "id": "96f8af98",
   "metadata": {
    "scrolled": true
   },
   "outputs": [],
   "source": [
    "plt.plot(reconstructed_signal)\n",
    "plt.show()"
   ]
  },
  {
   "cell_type": "code",
   "execution_count": null,
   "id": "dc6bb807",
   "metadata": {},
   "outputs": [],
   "source": [
    "mean_squared_error(train[0:-1], reconstructed_signal)"
   ]
  },
  {
   "cell_type": "code",
   "execution_count": null,
   "id": "d60dfad9",
   "metadata": {},
   "outputs": [],
   "source": [
    "# Plot the end of the extended signal \n",
    "xf_extended = rfftfreq(datapoints + 2*extended_length, 1 /sampling_rate)\n",
    "plt.plot(xf_extended[-200:], np.abs(extended_transformed_signal[-200:]))"
   ]
  },
  {
   "cell_type": "code",
   "execution_count": null,
   "id": "b987a425",
   "metadata": {},
   "outputs": [],
   "source": []
  },
  {
   "cell_type": "code",
   "execution_count": null,
   "id": "9db7900a",
   "metadata": {},
   "outputs": [],
   "source": [
    "# Desired extended timespan\n",
    "extended_length = 100\n",
    "\n",
    "# Extend the spectrum\n",
    "extended_spectrum = np.pad(yf, (0, extended_length - len(spectrum)), 'constant')\n",
    "\n",
    "# Perform inverse Fourier transform\n",
    "extended_signal = fft.irfft(extended_spectrum)"
   ]
  },
  {
   "cell_type": "markdown",
   "id": "a4dc60df",
   "metadata": {},
   "source": [
    "### TODO: \n",
    "\n",
    "- Train on train_data and test on test_data\n",
    "- Try padding for 1 h, 1 day, 1 week\n",
    "- Try different building types\n",
    "- Organise into different methods\n",
    "- "
   ]
  },
  {
   "cell_type": "code",
   "execution_count": null,
   "id": "4096a5fb",
   "metadata": {},
   "outputs": [],
   "source": []
  },
  {
   "cell_type": "code",
   "execution_count": null,
   "id": "2b317bbb",
   "metadata": {},
   "outputs": [],
   "source": []
  },
  {
   "cell_type": "code",
   "execution_count": null,
   "id": "eac2de85",
   "metadata": {},
   "outputs": [],
   "source": []
  },
  {
   "cell_type": "code",
   "execution_count": null,
   "id": "e32130cc",
   "metadata": {},
   "outputs": [],
   "source": []
  },
  {
   "cell_type": "code",
   "execution_count": null,
   "id": "156c1139",
   "metadata": {},
   "outputs": [],
   "source": []
  },
  {
   "cell_type": "code",
   "execution_count": null,
   "id": "0dded0d2",
   "metadata": {},
   "outputs": [],
   "source": []
  },
  {
   "cell_type": "code",
   "execution_count": null,
   "id": "00add1ec",
   "metadata": {},
   "outputs": [],
   "source": []
  },
  {
   "cell_type": "code",
   "execution_count": null,
   "id": "0764b4e4",
   "metadata": {
    "scrolled": true
   },
   "outputs": [],
   "source": [
    "result_fft = rfft(center_function(signal))\n",
    "fft_freq = 2/datapoints * abs(result_fft[0:np.size(frequency_domain)])\n",
    "fft_frequencies = fft_freq"
   ]
  },
  {
   "cell_type": "code",
   "execution_count": null,
   "id": "629e4e96",
   "metadata": {
    "scrolled": true
   },
   "outputs": [],
   "source": [
    "plt.plot(fft_frequencies)\n",
    "plt.show()"
   ]
  },
  {
   "cell_type": "code",
   "execution_count": null,
   "id": "1eca4580",
   "metadata": {
    "scrolled": false
   },
   "outputs": [],
   "source": [
    "N = sampling_rate * input_points\n",
    "y_fft = fft(center_function(signal))\n",
    "x_fft = fftfreq(input_points, 1/sampling_rate)\n"
   ]
  },
  {
   "cell_type": "code",
   "execution_count": null,
   "id": "ddc4d73f",
   "metadata": {
    "scrolled": true
   },
   "outputs": [],
   "source": [
    "plt.plot(x_fft, np.abs(y_fft))\n",
    "plt.show()"
   ]
  },
  {
   "cell_type": "markdown",
   "id": "01a01fa4",
   "metadata": {},
   "source": [
    "### Trying with rfft and rfftfreq"
   ]
  },
  {
   "cell_type": "code",
   "execution_count": null,
   "id": "7fe992c1",
   "metadata": {},
   "outputs": [],
   "source": [
    "N = sampling_rate * input_points\n",
    "y_rfft = rfft(center_function(signal))\n",
    "x_rfft = rfftfreq(input_points, 1/sampling_rate)\n"
   ]
  },
  {
   "cell_type": "code",
   "execution_count": null,
   "id": "e231a36a",
   "metadata": {
    "scrolled": true
   },
   "outputs": [],
   "source": [
    "plt.plot(x_rfft, np.abs(y_rfft))\n",
    "plt.show()"
   ]
  },
  {
   "cell_type": "markdown",
   "id": "3e69b085",
   "metadata": {},
   "source": [
    "### Apply the inverse rfft"
   ]
  },
  {
   "cell_type": "markdown",
   "id": "cd2ef429",
   "metadata": {},
   "source": [
    "# Prediction of each signal into the future"
   ]
  },
  {
   "cell_type": "markdown",
   "id": "8516b30b",
   "metadata": {},
   "source": [
    "# Reconstruction and Composition of the signal"
   ]
  },
  {
   "cell_type": "code",
   "execution_count": null,
   "id": "d173da3f",
   "metadata": {},
   "outputs": [],
   "source": []
  },
  {
   "cell_type": "code",
   "execution_count": null,
   "id": "b1117359",
   "metadata": {},
   "outputs": [],
   "source": [
    "new_sig = irfft(y_rfft)\n",
    "\n",
    "plt.plot(new_sig[:np.size(signal)])\n",
    "plt.show()"
   ]
  },
  {
   "cell_type": "code",
   "execution_count": null,
   "id": "89cb5c70",
   "metadata": {},
   "outputs": [],
   "source": [
    "np.size(signal)"
   ]
  },
  {
   "cell_type": "code",
   "execution_count": null,
   "id": "bac17e0e",
   "metadata": {},
   "outputs": [],
   "source": [
    "from sklearn.metrics import mean_squared_error"
   ]
  },
  {
   "cell_type": "code",
   "execution_count": null,
   "id": "a3a15f15",
   "metadata": {
    "scrolled": true
   },
   "outputs": [],
   "source": [
    "mean_squared_error(new_sig, signal)"
   ]
  },
  {
   "cell_type": "code",
   "execution_count": null,
   "id": "0abe5383",
   "metadata": {},
   "outputs": [],
   "source": []
  },
  {
   "cell_type": "code",
   "execution_count": null,
   "id": "48e4bf69",
   "metadata": {},
   "outputs": [],
   "source": []
  },
  {
   "cell_type": "code",
   "execution_count": null,
   "id": "da167197",
   "metadata": {
    "scrolled": true
   },
   "outputs": [],
   "source": [
    "def generate_sine_wave(freq, sample_rate, duration, amplitude):\n",
    "    x = np.linspace(0, duration, sample_rate * duration, endpoint=False)\n",
    "    frequencies = x * freq\n",
    "    # 2pi because np.sin takes radians\n",
    "    y = amplitude * np.sin((2 * np.pi) * frequencies)\n",
    "    \n",
    "    return x, y\n",
    "\n",
    "# Generate a 2 Hertz sine wave that lasts for 5 seconds\n",
    "x, y = generate_sine_wave(2, SAMPLE_RATE, DURATION, AMPLITUDE)\n",
    "plt.plot(x, y)\n",
    "plt.show()"
   ]
  },
  {
   "cell_type": "code",
   "execution_count": null,
   "id": "78dc79c0",
   "metadata": {},
   "outputs": [],
   "source": []
  },
  {
   "cell_type": "code",
   "execution_count": null,
   "id": "6e60d156",
   "metadata": {},
   "outputs": [],
   "source": []
  },
  {
   "cell_type": "code",
   "execution_count": null,
   "id": "fc5cf774",
   "metadata": {},
   "outputs": [],
   "source": []
  },
  {
   "cell_type": "code",
   "execution_count": null,
   "id": "f01c6414",
   "metadata": {},
   "outputs": [],
   "source": []
  },
  {
   "cell_type": "code",
   "execution_count": null,
   "id": "c0b3a84f",
   "metadata": {},
   "outputs": [],
   "source": []
  },
  {
   "cell_type": "code",
   "execution_count": null,
   "id": "3015a52a",
   "metadata": {},
   "outputs": [],
   "source": []
  },
  {
   "cell_type": "markdown",
   "id": "868c0afa",
   "metadata": {},
   "source": [
    "# TODO\n",
    "\n",
    "Herausfinden was es mit der sampling_rate auf sich hat und wie sie gewählt werden muss für unsere Echtdaten\n",
    "\n",
    "Anfangen und versuchen zu predicten"
   ]
  },
  {
   "cell_type": "markdown",
   "id": "05c23b33",
   "metadata": {},
   "source": [
    "# Example from medium: \n",
    "\n",
    "https://medium.com/@khairulomar/deconstructing-time-series-using-fourier-transform-e52dd535a44e"
   ]
  },
  {
   "cell_type": "markdown",
   "id": "b9213e6c",
   "metadata": {},
   "source": [
    "#### Plot the data"
   ]
  },
  {
   "cell_type": "code",
   "execution_count": null,
   "id": "0c383014",
   "metadata": {},
   "outputs": [],
   "source": [
    "# Frequency and sampling rate\n",
    "f = 10 # frequency\n",
    "Fs = 100 # sampling rate\n",
    "t = np.arange(0,1,1/Fs)\n",
    "# Sine function\n",
    "y = np.sin(2 * np.pi * f * t)\n",
    "# Perform Fourier transform using scipy\n",
    "from scipy import fftpack\n",
    "y_fft = fftpack.fft(y)\n",
    "# Plot data\n",
    "n = np.size(t)\n",
    "# fr is the x axis of the frequency domain. From 0 - 1 with datapoints/2 points in between multiplied by half of the sampling rate \n",
    "# equally many points between 0 and half of the sampling rate\n",
    "fr = Fs/2 * np.linspace(0,1,int(n/2))\n",
    "y_m = 2/n * abs(y_fft[0:np.size(fr)])\n",
    "fig, ax = plt.subplots(nrows=1, ncols=2, figsize=(15,5))\n",
    "ax[0].plot(t, y)    # plot time series\n",
    "ax[1].stem(fr, y_m) # plot freq domain"
   ]
  }
 ],
 "metadata": {
  "kernelspec": {
   "display_name": "Python 3 (ipykernel)",
   "language": "python",
   "name": "python3"
  },
  "language_info": {
   "codemirror_mode": {
    "name": "ipython",
    "version": 3
   },
   "file_extension": ".py",
   "mimetype": "text/x-python",
   "name": "python",
   "nbconvert_exporter": "python",
   "pygments_lexer": "ipython3",
   "version": "3.9.12"
  }
 },
 "nbformat": 4,
 "nbformat_minor": 5
}
