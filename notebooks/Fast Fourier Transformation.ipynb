{
 "cells": [
  {
   "cell_type": "markdown",
   "id": "9b486683",
   "metadata": {},
   "source": [
    "# <a name=\"setup_section\"></a> 1. Setup: Manage Installations Imports and Helper Functions"
   ]
  },
  {
   "cell_type": "code",
   "execution_count": 2,
   "id": "0ce35454",
   "metadata": {},
   "outputs": [],
   "source": [
    "import math\n",
    "import pandas as pd\n",
    "import numpy as np\n",
    "import matplotlib.pyplot as plt\n",
    "import csv\n",
    "\n",
    "from glob import glob\n",
    "from sklearn.model_selection import train_test_split"
   ]
  },
  {
   "cell_type": "markdown",
   "id": "048c6698",
   "metadata": {},
   "source": [
    "# <a name=\"loading_datasets\"></a> 2. Loading Datasets"
   ]
  },
  {
   "cell_type": "markdown",
   "id": "bae64aa5",
   "metadata": {},
   "source": [
    "## Load metadata"
   ]
  },
  {
   "cell_type": "code",
   "execution_count": 3,
   "id": "42e3e47f",
   "metadata": {},
   "outputs": [],
   "source": [
    "metdata_path = \"..\\\\data\\\\metadata\\\\\"\n",
    "metadata = pd.read_csv(metdata_path + \"metadata.csv\")"
   ]
  },
  {
   "cell_type": "markdown",
   "id": "f335f9be",
   "metadata": {},
   "source": [
    "## Load raw dataset"
   ]
  },
  {
   "cell_type": "code",
   "execution_count": 4,
   "id": "25bc228a",
   "metadata": {
    "scrolled": true
   },
   "outputs": [],
   "source": [
    "raw_meters_path = \"..\\\\data\\\\meters\\\\raw\\\\\"\n",
    "\n",
    "# files in directory\n",
    "files = glob(raw_meters_path + \"*.csv\")"
   ]
  },
  {
   "cell_type": "code",
   "execution_count": 5,
   "id": "4873b7c6",
   "metadata": {},
   "outputs": [],
   "source": [
    "dfs = [] # empty list of the dataframes to create\n",
    "for file in files: # for each file in directory\n",
    "    meter_type = file.split(\"\\\\\")[4].split(\".\")[0] # meter_type to rename the value feature\n",
    "    meter = pd.read_csv(file) # load the dataset\n",
    "    meter = pd.melt(meter, id_vars = \"timestamp\", var_name = \"building_id\", value_name = \"meter_reading\") # melt dataset\n",
    "    meter[\"meter\"] = str(meter_type) # adds column with the meter type\n",
    "    dfs.append(meter) # append to list\n",
    "raw_data_cleaned = pd.concat(dfs, axis=0, ignore_index=True) # concatenate all meter\n",
    "del(dfs, meter, file, files, meter_type)"
   ]
  },
  {
   "cell_type": "code",
   "execution_count": 6,
   "id": "8cfbcc5a",
   "metadata": {
    "scrolled": true
   },
   "outputs": [
    {
     "data": {
      "text/html": [
       "<div>\n",
       "<style scoped>\n",
       "    .dataframe tbody tr th:only-of-type {\n",
       "        vertical-align: middle;\n",
       "    }\n",
       "\n",
       "    .dataframe tbody tr th {\n",
       "        vertical-align: top;\n",
       "    }\n",
       "\n",
       "    .dataframe thead th {\n",
       "        text-align: right;\n",
       "    }\n",
       "</style>\n",
       "<table border=\"1\" class=\"dataframe\">\n",
       "  <thead>\n",
       "    <tr style=\"text-align: right;\">\n",
       "      <th></th>\n",
       "      <th>timestamp</th>\n",
       "      <th>building_id</th>\n",
       "      <th>meter_reading</th>\n",
       "      <th>meter</th>\n",
       "    </tr>\n",
       "  </thead>\n",
       "  <tbody>\n",
       "    <tr>\n",
       "      <th>0</th>\n",
       "      <td>2016-01-01 00:00:00</td>\n",
       "      <td>Panther_office_Clementine</td>\n",
       "      <td>NaN</td>\n",
       "      <td>chilledwater</td>\n",
       "    </tr>\n",
       "    <tr>\n",
       "      <th>1</th>\n",
       "      <td>2016-01-01 01:00:00</td>\n",
       "      <td>Panther_office_Clementine</td>\n",
       "      <td>NaN</td>\n",
       "      <td>chilledwater</td>\n",
       "    </tr>\n",
       "    <tr>\n",
       "      <th>2</th>\n",
       "      <td>2016-01-01 02:00:00</td>\n",
       "      <td>Panther_office_Clementine</td>\n",
       "      <td>NaN</td>\n",
       "      <td>chilledwater</td>\n",
       "    </tr>\n",
       "    <tr>\n",
       "      <th>3</th>\n",
       "      <td>2016-01-01 03:00:00</td>\n",
       "      <td>Panther_office_Clementine</td>\n",
       "      <td>NaN</td>\n",
       "      <td>chilledwater</td>\n",
       "    </tr>\n",
       "    <tr>\n",
       "      <th>4</th>\n",
       "      <td>2016-01-01 04:00:00</td>\n",
       "      <td>Panther_office_Clementine</td>\n",
       "      <td>NaN</td>\n",
       "      <td>chilledwater</td>\n",
       "    </tr>\n",
       "  </tbody>\n",
       "</table>\n",
       "</div>"
      ],
      "text/plain": [
       "             timestamp                building_id  meter_reading         meter\n",
       "0  2016-01-01 00:00:00  Panther_office_Clementine            NaN  chilledwater\n",
       "1  2016-01-01 01:00:00  Panther_office_Clementine            NaN  chilledwater\n",
       "2  2016-01-01 02:00:00  Panther_office_Clementine            NaN  chilledwater\n",
       "3  2016-01-01 03:00:00  Panther_office_Clementine            NaN  chilledwater\n",
       "4  2016-01-01 04:00:00  Panther_office_Clementine            NaN  chilledwater"
      ]
     },
     "execution_count": 6,
     "metadata": {},
     "output_type": "execute_result"
    }
   ],
   "source": [
    "raw_data_cleaned.head()"
   ]
  },
  {
   "cell_type": "markdown",
   "id": "c64e90ef",
   "metadata": {},
   "source": [
    "## Load cleaned dataset"
   ]
  },
  {
   "cell_type": "code",
   "execution_count": 7,
   "id": "c7afb469",
   "metadata": {
    "scrolled": true
   },
   "outputs": [],
   "source": [
    "cleaned_meters_path = \"..\\\\data\\\\meters\\\\cleaned\\\\\"\n",
    "\n",
    "# files in directory\n",
    "files = glob(cleaned_meters_path + \"*.csv\")"
   ]
  },
  {
   "cell_type": "code",
   "execution_count": 8,
   "id": "9b96c5e0",
   "metadata": {},
   "outputs": [],
   "source": [
    "dfs = [] # empty list of the dataframes to create\n",
    "for file in files: # for each file in directory\n",
    "    meter_type = file.split(\"\\\\\")[4].split(\".\")[0] # meter_type to rename the value feature\n",
    "    meter = pd.read_csv(file) # load the dataset\n",
    "    meter = pd.melt(meter, id_vars = \"timestamp\", var_name = \"building_id\", value_name = \"meter_reading\") # melt dataset\n",
    "    meter[\"meter\"] = str(meter_type) # adds column with the meter type\n",
    "    dfs.append(meter) # append to list\n",
    "complete_data_cleaned = pd.concat(dfs, axis=0, ignore_index=True) # concatenate all meter\n",
    "del(dfs, meter, file, files, meter_type)"
   ]
  },
  {
   "cell_type": "code",
   "execution_count": 9,
   "id": "60cfbaa4",
   "metadata": {
    "scrolled": true
   },
   "outputs": [
    {
     "data": {
      "text/html": [
       "<div>\n",
       "<style scoped>\n",
       "    .dataframe tbody tr th:only-of-type {\n",
       "        vertical-align: middle;\n",
       "    }\n",
       "\n",
       "    .dataframe tbody tr th {\n",
       "        vertical-align: top;\n",
       "    }\n",
       "\n",
       "    .dataframe thead th {\n",
       "        text-align: right;\n",
       "    }\n",
       "</style>\n",
       "<table border=\"1\" class=\"dataframe\">\n",
       "  <thead>\n",
       "    <tr style=\"text-align: right;\">\n",
       "      <th></th>\n",
       "      <th>timestamp</th>\n",
       "      <th>building_id</th>\n",
       "      <th>meter_reading</th>\n",
       "      <th>meter</th>\n",
       "    </tr>\n",
       "  </thead>\n",
       "  <tbody>\n",
       "    <tr>\n",
       "      <th>0</th>\n",
       "      <td>2016-01-01 00:00:00</td>\n",
       "      <td>Panther_office_Clementine</td>\n",
       "      <td>NaN</td>\n",
       "      <td>chilledwater_cleaned</td>\n",
       "    </tr>\n",
       "    <tr>\n",
       "      <th>1</th>\n",
       "      <td>2016-01-01 01:00:00</td>\n",
       "      <td>Panther_office_Clementine</td>\n",
       "      <td>NaN</td>\n",
       "      <td>chilledwater_cleaned</td>\n",
       "    </tr>\n",
       "    <tr>\n",
       "      <th>2</th>\n",
       "      <td>2016-01-01 02:00:00</td>\n",
       "      <td>Panther_office_Clementine</td>\n",
       "      <td>NaN</td>\n",
       "      <td>chilledwater_cleaned</td>\n",
       "    </tr>\n",
       "    <tr>\n",
       "      <th>3</th>\n",
       "      <td>2016-01-01 03:00:00</td>\n",
       "      <td>Panther_office_Clementine</td>\n",
       "      <td>NaN</td>\n",
       "      <td>chilledwater_cleaned</td>\n",
       "    </tr>\n",
       "    <tr>\n",
       "      <th>4</th>\n",
       "      <td>2016-01-01 04:00:00</td>\n",
       "      <td>Panther_office_Clementine</td>\n",
       "      <td>NaN</td>\n",
       "      <td>chilledwater_cleaned</td>\n",
       "    </tr>\n",
       "  </tbody>\n",
       "</table>\n",
       "</div>"
      ],
      "text/plain": [
       "             timestamp                building_id  meter_reading  \\\n",
       "0  2016-01-01 00:00:00  Panther_office_Clementine            NaN   \n",
       "1  2016-01-01 01:00:00  Panther_office_Clementine            NaN   \n",
       "2  2016-01-01 02:00:00  Panther_office_Clementine            NaN   \n",
       "3  2016-01-01 03:00:00  Panther_office_Clementine            NaN   \n",
       "4  2016-01-01 04:00:00  Panther_office_Clementine            NaN   \n",
       "\n",
       "                  meter  \n",
       "0  chilledwater_cleaned  \n",
       "1  chilledwater_cleaned  \n",
       "2  chilledwater_cleaned  \n",
       "3  chilledwater_cleaned  \n",
       "4  chilledwater_cleaned  "
      ]
     },
     "execution_count": 9,
     "metadata": {},
     "output_type": "execute_result"
    }
   ],
   "source": [
    "complete_data_cleaned.head()"
   ]
  },
  {
   "cell_type": "markdown",
   "id": "7cbf4988",
   "metadata": {},
   "source": [
    "## Fast Fourier Transformation \n"
   ]
  },
  {
   "cell_type": "code",
   "execution_count": 122,
   "id": "734aa44d",
   "metadata": {},
   "outputs": [],
   "source": [
    "from scipy.fft import fft, fftfreq\n",
    "from scipy.fft import rfft, rfftfreq\n",
    "from scipy.fft import ifft, irfft"
   ]
  },
  {
   "cell_type": "markdown",
   "id": "abd08e47",
   "metadata": {},
   "source": [
    "## Example\n",
    "####  Construct the signal "
   ]
  },
  {
   "cell_type": "code",
   "execution_count": 211,
   "id": "f3d07482",
   "metadata": {
    "scrolled": false
   },
   "outputs": [
    {
     "data": {
      "image/png": "[encoded data removed]",
      "text/plain": [
       "<Figure size 432x288 with 1 Axes>"
      ]
     },
     "metadata": {
      "needs_background": "light"
     },
     "output_type": "display_data"
    }
   ],
   "source": [
    "SAMPLE_RATE = 100  # Hertz\n",
    "DURATION = 174  # Seconds\n",
    "\n",
    "def generate_sine_wave(freq, sample_rate, duration):\n",
    "    x = np.linspace(0, duration, sample_rate * duration, endpoint=False)\n",
    "    frequencies = x * freq\n",
    "    # 2pi because np.sin takes radians\n",
    "    y = np.sin((2 * np.pi) * frequencies)\n",
    "    return x, y\n",
    "\n",
    "# Generate a 2 hertz sine wave that lasts for 5 seconds\n",
    "x2, y2 = generate_sine_wave(2, SAMPLE_RATE, DURATION)\n",
    "_, y5 = generate_sine_wave(5, SAMPLE_RATE, DURATION)\n",
    "mixed = y2 + y5\n",
    "plt.plot(x2, y2)\n",
    "plt.plot(x2, y5)\n",
    "plt.show()"
   ]
  },
  {
   "cell_type": "code",
   "execution_count": 212,
   "id": "b8b81392",
   "metadata": {},
   "outputs": [
    {
     "data": {
      "text/plain": [
       "-1.7145055188062944e-15"
      ]
     },
     "execution_count": 212,
     "metadata": {},
     "output_type": "execute_result"
    }
   ],
   "source": [
    "mixed[100]"
   ]
  },
  {
   "cell_type": "code",
   "execution_count": 213,
   "id": "001b4751",
   "metadata": {},
   "outputs": [
    {
     "data": {
      "text/plain": [
       "[<matplotlib.lines.Line2D at 0x1ee4213fbe0>]"
      ]
     },
     "execution_count": 213,
     "metadata": {},
     "output_type": "execute_result"
    },
    {
     "data": {
      "image/png": "[encoded data removed]",
      "text/plain": [
       "<Figure size 432x288 with 1 Axes>"
      ]
     },
     "metadata": {
      "needs_background": "light"
     },
     "output_type": "display_data"
    }
   ],
   "source": [
    "plt.plot(x2,mixed)"
   ]
  },
  {
   "cell_type": "code",
   "execution_count": 214,
   "id": "b8b00e7c",
   "metadata": {},
   "outputs": [
    {
     "name": "stdout",
     "output_type": "stream",
     "text": [
      " size of x:  17400\n",
      " size of y:  17400\n"
     ]
    }
   ],
   "source": [
    "print(\" size of x: \", np.size(x2))\n",
    "print(\" size of y: \", np.size(mixed))"
   ]
  },
  {
   "cell_type": "code",
   "execution_count": 215,
   "id": "0ce2179e",
   "metadata": {
    "scrolled": true
   },
   "outputs": [
    {
     "name": "stderr",
     "output_type": "stream",
     "text": [
      "C:\\Users\\marku\\anaconda3\\lib\\site-packages\\matplotlib\\cbook\\__init__.py:1298: ComplexWarning: Casting complex values to real discards the imaginary part\n",
      "  return np.asarray(x, float)\n"
     ]
    },
    {
     "data": {
      "text/plain": [
       "[<matplotlib.lines.Line2D at 0x1ee421891c0>]"
      ]
     },
     "execution_count": 215,
     "metadata": {},
     "output_type": "execute_result"
    },
    {
     "data": {
      "image/png": "[encoded data removed]",
      "text/plain": [
       "<Figure size 432x288 with 1 Axes>"
      ]
     },
     "metadata": {
      "needs_background": "light"
     },
     "output_type": "display_data"
    }
   ],
   "source": [
    "result_fft = fft(mixed)\n",
    "plt.plot(result_fft)"
   ]
  },
  {
   "cell_type": "code",
   "execution_count": 216,
   "id": "1c2088c7",
   "metadata": {},
   "outputs": [
    {
     "name": "stderr",
     "output_type": "stream",
     "text": [
      "C:\\Users\\marku\\anaconda3\\lib\\site-packages\\matplotlib\\cbook\\__init__.py:1298: ComplexWarning: Casting complex values to real discards the imaginary part\n",
      "  return np.asarray(x, float)\n"
     ]
    },
    {
     "data": {
      "text/plain": [
       "[<matplotlib.lines.Line2D at 0x1ee421caa60>]"
      ]
     },
     "execution_count": 216,
     "metadata": {},
     "output_type": "execute_result"
    },
    {
     "data": {
      "image/png": "[encoded data removed]",
      "text/plain": [
       "<Figure size 432x288 with 1 Axes>"
      ]
     },
     "metadata": {
      "needs_background": "light"
     },
     "output_type": "display_data"
    }
   ],
   "source": [
    "result_rfft = rfft(mixed)\n",
    "plt.plot(result_rfft)"
   ]
  },
  {
   "cell_type": "code",
   "execution_count": 217,
   "id": "266869fa",
   "metadata": {
    "scrolled": false
   },
   "outputs": [
    {
     "data": {
      "image/png": "[encoded data removed]",
      "text/plain": [
       "<Figure size 432x288 with 1 Axes>"
      ]
     },
     "metadata": {
      "needs_background": "light"
     },
     "output_type": "display_data"
    }
   ],
   "source": [
    "from scipy.fft import fft, fftfreq\n",
    "\n",
    "# Number of samples in normalized_tone\n",
    "N = SAMPLE_RATE * DURATION\n",
    "\n",
    "yf = rfft(mixed)\n",
    "xf = rfftfreq(N, 1 / SAMPLE_RATE)\n",
    "\n",
    "plt.plot(xf, 0.4/SAMPLE_RATE * np.abs(yf))\n",
    "plt.show()"
   ]
  },
  {
   "cell_type": "code",
   "execution_count": 218,
   "id": "c657cdf2",
   "metadata": {
    "scrolled": true
   },
   "outputs": [
    {
     "data": {
      "text/plain": [
       "[<matplotlib.lines.Line2D at 0x1ee42da2a00>]"
      ]
     },
     "execution_count": 218,
     "metadata": {},
     "output_type": "execute_result"
    },
    {
     "data": {
      "image/png": "[encoded data removed]",
      "text/plain": [
       "<Figure size 432x288 with 1 Axes>"
      ]
     },
     "metadata": {
      "needs_background": "light"
     },
     "output_type": "display_data"
    }
   ],
   "source": [
    "plt.plot(np.abs(yf))"
   ]
  },
  {
   "cell_type": "code",
   "execution_count": 240,
   "id": "aac73b99",
   "metadata": {
    "scrolled": false
   },
   "outputs": [
    {
     "name": "stdout",
     "output_type": "stream",
     "text": [
      "******************\n",
      "index 0\n",
      "freq [348]\n",
      "int(freq[0]/DURATION) =  2\n",
      "******************\n",
      "index 1\n",
      "freq [870]\n",
      "int(freq[0]/DURATION) =  5\n"
     ]
    },
    {
     "data": {
      "image/png": "[encoded data removed]",
      "text/plain": [
       "<Figure size 432x288 with 1 Axes>"
      ]
     },
     "metadata": {
      "needs_background": "light"
     },
     "output_type": "display_data"
    }
   ],
   "source": [
    "output_signal = np.zeros(SAMPLE_RATE * DURATION * 2 )\n",
    "for index, freq in enumerate(np.argwhere(np.abs(yf)> 0.001)):\n",
    "    print(\"******************\")\n",
    "    print(\"index\", index)\n",
    "    print(\"freq\", freq)\n",
    "    print(\"int(freq[0]/DURATION) = \", int(freq[0]/DURATION))\n",
    "    \n",
    "    _, y = generate_sine_wave(int(freq[0]/DURATION),SAMPLE_RATE, DURATION * 2 )\n",
    "    plt.plot(y)\n",
    "    output_signal += y"
   ]
  },
  {
   "cell_type": "code",
   "execution_count": 238,
   "id": "b697163d",
   "metadata": {},
   "outputs": [
    {
     "data": {
      "text/plain": [
       "[<matplotlib.lines.Line2D at 0x1efe4903760>]"
      ]
     },
     "execution_count": 238,
     "metadata": {},
     "output_type": "execute_result"
    },
    {
     "data": {
      "image/png": "[encoded data removed]",
      "text/plain": [
       "<Figure size 432x288 with 1 Axes>"
      ]
     },
     "metadata": {
      "needs_background": "light"
     },
     "output_type": "display_data"
    }
   ],
   "source": [
    "plt.plot(output_signal)"
   ]
  },
  {
   "cell_type": "code",
   "execution_count": 221,
   "id": "193061fd",
   "metadata": {},
   "outputs": [
    {
     "data": {
      "text/plain": [
       "[<matplotlib.lines.Line2D at 0x1ee43ee3c70>]"
      ]
     },
     "execution_count": 221,
     "metadata": {},
     "output_type": "execute_result"
    },
    {
     "data": {
      "image/png": "[encoded data removed]",
      "text/plain": [
       "<Figure size 432x288 with 1 Axes>"
      ]
     },
     "metadata": {
      "needs_background": "light"
     },
     "output_type": "display_data"
    }
   ],
   "source": [
    "reconstructed_signal = irfft(yf)\n",
    "plt.plot(reconstructed_signal)"
   ]
  },
  {
   "cell_type": "code",
   "execution_count": 230,
   "id": "b8228e50",
   "metadata": {
    "scrolled": true
   },
   "outputs": [
    {
     "data": {
      "text/plain": [
       "[<matplotlib.lines.Line2D at 0x1ee413161c0>]"
      ]
     },
     "execution_count": 230,
     "metadata": {},
     "output_type": "execute_result"
    },
    {
     "data": {
      "image/png": "[encoded data removed]",
      "text/plain": [
       "<Figure size 432x288 with 1 Axes>"
      ]
     },
     "metadata": {
      "needs_background": "light"
     },
     "output_type": "display_data"
    }
   ],
   "source": [
    "reconstructed_signal2 = irfft(yf, 2000)\n",
    "plt.plot(reconstructed_signal2)"
   ]
  },
  {
   "cell_type": "code",
   "execution_count": null,
   "id": "e5ff0603",
   "metadata": {},
   "outputs": [],
   "source": []
  },
  {
   "cell_type": "code",
   "execution_count": null,
   "id": "03303c24",
   "metadata": {},
   "outputs": [],
   "source": []
  },
  {
   "cell_type": "code",
   "execution_count": null,
   "id": "345bb773",
   "metadata": {},
   "outputs": [],
   "source": []
  },
  {
   "cell_type": "code",
   "execution_count": 26,
   "id": "09f566b2",
   "metadata": {
    "scrolled": true
   },
   "outputs": [],
   "source": [
    "# Frequency and sampling rate\n",
    "frequency = 3 # frequency\n",
    "sampling_rate = 100 # sampling rate\n",
    "\n",
    "# Time component - sampling_rate many values between 0 and 1 in steps of 1/sampling_size\n",
    "time = np.arange(0,1,1/sampling_rate)\n",
    "# datapoints is the same as sampling_rate\n",
    "datapoints = np.size(time) \n",
    "\n",
    "frequency_domain = np.linspace(0,1,int(datapoints/2))\n",
    "\n",
    "# Sine function\n",
    "signal = np.sin(2 * np.pi * frequency * time) "
   ]
  },
  {
   "cell_type": "code",
   "execution_count": 25,
   "id": "1183b767",
   "metadata": {},
   "outputs": [
    {
     "data": {
      "text/plain": [
       "True"
      ]
     },
     "execution_count": 25,
     "metadata": {},
     "output_type": "execute_result"
    }
   ],
   "source": [
    "datapoints == sampling_rate"
   ]
  },
  {
   "cell_type": "code",
   "execution_count": 21,
   "id": "27069e73",
   "metadata": {},
   "outputs": [
    {
     "data": {
      "text/plain": [
       "array([0.   , 0.125, 0.25 , 0.375, 0.5  , 0.625, 0.75 , 0.875])"
      ]
     },
     "execution_count": 21,
     "metadata": {},
     "output_type": "execute_result"
    }
   ],
   "source": [
    "np.arange(0,1,)"
   ]
  },
  {
   "cell_type": "code",
   "execution_count": null,
   "id": "e8a42b8a",
   "metadata": {},
   "outputs": [],
   "source": []
  },
  {
   "cell_type": "markdown",
   "id": "b9263471",
   "metadata": {},
   "source": [
    "#### Perform Fourier transform from scipy"
   ]
  },
  {
   "cell_type": "code",
   "execution_count": 24,
   "id": "43648c4b",
   "metadata": {},
   "outputs": [
    {
     "data": {
      "text/plain": [
       "[<matplotlib.lines.Line2D at 0x199b044d250>]"
      ]
     },
     "execution_count": 24,
     "metadata": {},
     "output_type": "execute_result"
    },
    {
     "data": {
      "image/png": "[encoded data removed]",
      "text/plain": [
       "<Figure size 432x288 with 1 Axes>"
      ]
     },
     "metadata": {
      "needs_background": "light"
     },
     "output_type": "display_data"
    }
   ],
   "source": [
    "result_fft = fft(signal)\n",
    "fft_freq = 2/datapoints * abs(result_fft[0:np.size(frequency_domain)])\n",
    "plt.plot(fft_freq)"
   ]
  },
  {
   "cell_type": "markdown",
   "id": "67fa88de",
   "metadata": {},
   "source": [
    "# Try with metering data\n"
   ]
  },
  {
   "cell_type": "markdown",
   "id": "3d5285f1",
   "metadata": {},
   "source": [
    "Helper functions"
   ]
  },
  {
   "cell_type": "code",
   "execution_count": 25,
   "id": "8f7bc14b",
   "metadata": {},
   "outputs": [],
   "source": [
    "#create function to center data\n",
    "center_function = lambda x: x - x.mean()"
   ]
  },
  {
   "cell_type": "markdown",
   "id": "2c3e5c04",
   "metadata": {},
   "source": [
    "### Todo\n",
    "#### Come up with a strategy to handle nan values\n",
    "\n",
    "Currently - just drop them"
   ]
  },
  {
   "cell_type": "code",
   "execution_count": 26,
   "id": "6393b854",
   "metadata": {
    "scrolled": true
   },
   "outputs": [
    {
     "data": {
      "image/png": "[encoded data removed]",
      "text/plain": [
       "<Figure size 432x288 with 1 Axes>"
      ]
     },
     "metadata": {
      "needs_background": "light"
     },
     "output_type": "display_data"
    }
   ],
   "source": [
    "plt.plot(poc_electricity['meter_reading'].to_numpy())\n",
    "plt.show()"
   ]
  },
  {
   "cell_type": "code",
   "execution_count": 27,
   "id": "944b20a8",
   "metadata": {},
   "outputs": [
    {
     "name": "stdout",
     "output_type": "stream",
     "text": [
      "Amount of nan values in the signal:  73\n",
      "Fraction of nan values in the signal:  0.004160966712266302\n"
     ]
    }
   ],
   "source": [
    "raw_signal = poc_electricity['meter_reading'].to_numpy()\n",
    "print(\"Amount of nan values in the signal: \", np.isnan(raw_signal).sum())\n",
    "print(\"Fraction of nan values in the signal: \", np.isnan(raw_signal).sum()/ np.size(raw_signal))"
   ]
  },
  {
   "cell_type": "code",
   "execution_count": 28,
   "id": "f79eaccc",
   "metadata": {},
   "outputs": [
    {
     "data": {
      "image/png": "[encoded data removed]",
      "text/plain": [
       "<Figure size 432x288 with 1 Axes>"
      ]
     },
     "metadata": {
      "needs_background": "light"
     },
     "output_type": "display_data"
    }
   ],
   "source": [
    "poc_electricity_no_nans = poc_electricity.dropna()\n",
    "signal = poc_electricity_no_nans['meter_reading'].to_numpy()\n",
    "plt.plot(signal)\n",
    "plt.show()"
   ]
  },
  {
   "cell_type": "code",
   "execution_count": 29,
   "id": "2db85123",
   "metadata": {},
   "outputs": [],
   "source": [
    "input_points = np.size(signal)\n",
    "sampling_rate = input_points  * 2\n",
    "# Time component\n",
    "time = np.arange(0,1,1/sampling_rate)\n",
    "datapoints = np.size(time)\n",
    "frequency_domain = np.linspace(0,1,int(datapoints/2))\n"
   ]
  },
  {
   "cell_type": "code",
   "execution_count": 30,
   "id": "0764b4e4",
   "metadata": {
    "scrolled": true
   },
   "outputs": [],
   "source": [
    "result_fft = fft(center_function(signal))\n",
    "fft_freq = 2/datapoints * abs(result_fft[0:np.size(frequency_domain)])\n",
    "fft_frequencies = fft_freq"
   ]
  },
  {
   "cell_type": "code",
   "execution_count": 31,
   "id": "629e4e96",
   "metadata": {
    "scrolled": true
   },
   "outputs": [
    {
     "data": {
      "image/png": "[encoded data removed]",
      "text/plain": [
       "<Figure size 432x288 with 1 Axes>"
      ]
     },
     "metadata": {
      "needs_background": "light"
     },
     "output_type": "display_data"
    }
   ],
   "source": [
    "plt.plot(fft_frequencies)\n",
    "plt.show()"
   ]
  },
  {
   "cell_type": "code",
   "execution_count": 36,
   "id": "1eca4580",
   "metadata": {
    "scrolled": false
   },
   "outputs": [],
   "source": [
    "N = sampling_rate * input_points\n",
    "y_fft = fft(center_function(signal))\n",
    "x_fft = fftfreq(input_points, 1/sampling_rate)\n"
   ]
  },
  {
   "cell_type": "code",
   "execution_count": 37,
   "id": "ddc4d73f",
   "metadata": {
    "scrolled": true
   },
   "outputs": [
    {
     "data": {
      "image/png": "[encoded data removed]",
      "text/plain": [
       "<Figure size 432x288 with 1 Axes>"
      ]
     },
     "metadata": {
      "needs_background": "light"
     },
     "output_type": "display_data"
    }
   ],
   "source": [
    "plt.plot(x_fft, np.abs(y_fft))\n",
    "plt.show()"
   ]
  },
  {
   "cell_type": "markdown",
   "id": "01a01fa4",
   "metadata": {},
   "source": [
    "### Trying with rfft and rfftfreq"
   ]
  },
  {
   "cell_type": "code",
   "execution_count": 45,
   "id": "7fe992c1",
   "metadata": {},
   "outputs": [],
   "source": [
    "N = sampling_rate * input_points\n",
    "y_rfft = rfft(center_function(signal))\n",
    "x_rfft = rfftfreq(input_points, 1/sampling_rate)\n"
   ]
  },
  {
   "cell_type": "code",
   "execution_count": 46,
   "id": "e231a36a",
   "metadata": {
    "scrolled": true
   },
   "outputs": [
    {
     "data": {
      "image/png": "[encoded data removed]",
      "text/plain": [
       "<Figure size 432x288 with 1 Axes>"
      ]
     },
     "metadata": {
      "needs_background": "light"
     },
     "output_type": "display_data"
    }
   ],
   "source": [
    "plt.plot(x_rfft, np.abs(y_rfft))\n",
    "plt.show()"
   ]
  },
  {
   "cell_type": "markdown",
   "id": "3e69b085",
   "metadata": {},
   "source": [
    "### Apply the inverse rfft"
   ]
  }
 ],
 "metadata": {
  "kernelspec": {
   "display_name": "Python 3 (ipykernel)",
   "language": "python",
   "name": "python3"
  },
  "language_info": {
   "codemirror_mode": {
    "name": "ipython",
    "version": 3
   },
   "file_extension": ".py",
   "mimetype": "text/x-python",
   "name": "python",
   "nbconvert_exporter": "python",
   "pygments_lexer": "ipython3",
   "version": "3.9.12"
  }
 },
 "nbformat": 4,
 "nbformat_minor": 5
}
