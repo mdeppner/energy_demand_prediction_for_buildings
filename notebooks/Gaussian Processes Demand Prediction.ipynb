{
 "cells": [
  {
   "cell_type": "markdown",
   "id": "e953ff67",
   "metadata": {},
   "source": [
    "# <a name=\"setup_section\"></a> 1. Setup: Manage Installations Imports and Helper Functions\n"
   ]
  },
  {
   "cell_type": "code",
   "execution_count": 1,
   "id": "6b593abc",
   "metadata": {},
   "outputs": [],
   "source": [
    "#!pip install --upgrade GPy\n",
    "#!pip install --upgrade numpy"
   ]
  },
  {
   "cell_type": "code",
   "execution_count": 2,
   "id": "db5efd8f",
   "metadata": {
    "scrolled": true
   },
   "outputs": [
    {
     "name": "stdout",
     "output_type": "stream",
     "text": [
      "warning in stationary: failed to import cython module: falling back to numpy\n",
      "warning in coregionalize: failed to import cython module: falling back to numpy\n",
      "warning in choleskies: failed to import cython module: falling back to numpy\n"
     ]
    }
   ],
   "source": [
    "import math\n",
    "import pandas as pd\n",
    "import matplotlib.pyplot as plt\n",
    "import csv\n",
    "import GPy\n",
    "import numpy as np\n",
    "\n",
    "from datetime import datetime\n",
    "from glob import glob\n",
    "from sklearn.model_selection import train_test_split\n",
    "from sklearn.metrics import mean_squared_error\n",
    "from sklearn.metrics import mean_absolute_error\n",
    "from scipy.stats import norm, percentileofscore"
   ]
  },
  {
   "cell_type": "markdown",
   "id": "4cee91f4",
   "metadata": {},
   "source": [
    "# <a name=\"loading_datasets\"></a> 2. Loading Datasets\n"
   ]
  },
  {
   "cell_type": "markdown",
   "id": "b3380e0e",
   "metadata": {},
   "source": [
    "## Load metadata\n"
   ]
  },
  {
   "cell_type": "code",
   "execution_count": 3,
   "id": "5ad544a0",
   "metadata": {},
   "outputs": [],
   "source": [
    "metdata_path = \"..\\\\data\\\\metadata\\\\\"\n",
    "metadata = pd.read_csv(metdata_path + \"metadata.csv\")\n"
   ]
  },
  {
   "cell_type": "markdown",
   "id": "640a1cd4",
   "metadata": {},
   "source": [
    "## Load weather data"
   ]
  },
  {
   "cell_type": "code",
   "execution_count": 4,
   "id": "f52f7742",
   "metadata": {},
   "outputs": [],
   "source": [
    "# Weather data\n",
    "weather_path = \"..\\\\data\\\\weather\\\\\"\n",
    "weather = pd.read_csv(weather_path + \"weather.csv\")"
   ]
  },
  {
   "cell_type": "code",
   "execution_count": 5,
   "id": "cdfd60c1",
   "metadata": {},
   "outputs": [
    {
     "data": {
      "text/html": [
       "<div>\n",
       "<style scoped>\n",
       "    .dataframe tbody tr th:only-of-type {\n",
       "        vertical-align: middle;\n",
       "    }\n",
       "\n",
       "    .dataframe tbody tr th {\n",
       "        vertical-align: top;\n",
       "    }\n",
       "\n",
       "    .dataframe thead th {\n",
       "        text-align: right;\n",
       "    }\n",
       "</style>\n",
       "<table border=\"1\" class=\"dataframe\">\n",
       "  <thead>\n",
       "    <tr style=\"text-align: right;\">\n",
       "      <th></th>\n",
       "      <th>timestamp</th>\n",
       "      <th>site_id</th>\n",
       "      <th>airTemperature</th>\n",
       "      <th>cloudCoverage</th>\n",
       "      <th>dewTemperature</th>\n",
       "      <th>precipDepth1HR</th>\n",
       "      <th>precipDepth6HR</th>\n",
       "      <th>seaLvlPressure</th>\n",
       "      <th>windDirection</th>\n",
       "      <th>windSpeed</th>\n",
       "    </tr>\n",
       "  </thead>\n",
       "  <tbody>\n",
       "    <tr>\n",
       "      <th>0</th>\n",
       "      <td>2016-01-01 00:00:00</td>\n",
       "      <td>Panther</td>\n",
       "      <td>19.4</td>\n",
       "      <td>NaN</td>\n",
       "      <td>19.4</td>\n",
       "      <td>0.0</td>\n",
       "      <td>NaN</td>\n",
       "      <td>NaN</td>\n",
       "      <td>0.0</td>\n",
       "      <td>0.0</td>\n",
       "    </tr>\n",
       "    <tr>\n",
       "      <th>1</th>\n",
       "      <td>2016-01-01 01:00:00</td>\n",
       "      <td>Panther</td>\n",
       "      <td>21.1</td>\n",
       "      <td>6.0</td>\n",
       "      <td>21.1</td>\n",
       "      <td>-1.0</td>\n",
       "      <td>NaN</td>\n",
       "      <td>1019.4</td>\n",
       "      <td>0.0</td>\n",
       "      <td>0.0</td>\n",
       "    </tr>\n",
       "    <tr>\n",
       "      <th>2</th>\n",
       "      <td>2016-01-01 02:00:00</td>\n",
       "      <td>Panther</td>\n",
       "      <td>21.1</td>\n",
       "      <td>NaN</td>\n",
       "      <td>21.1</td>\n",
       "      <td>0.0</td>\n",
       "      <td>NaN</td>\n",
       "      <td>1018.8</td>\n",
       "      <td>210.0</td>\n",
       "      <td>1.5</td>\n",
       "    </tr>\n",
       "    <tr>\n",
       "      <th>3</th>\n",
       "      <td>2016-01-01 03:00:00</td>\n",
       "      <td>Panther</td>\n",
       "      <td>20.6</td>\n",
       "      <td>NaN</td>\n",
       "      <td>20.0</td>\n",
       "      <td>0.0</td>\n",
       "      <td>NaN</td>\n",
       "      <td>1018.1</td>\n",
       "      <td>0.0</td>\n",
       "      <td>0.0</td>\n",
       "    </tr>\n",
       "    <tr>\n",
       "      <th>4</th>\n",
       "      <td>2016-01-01 04:00:00</td>\n",
       "      <td>Panther</td>\n",
       "      <td>21.1</td>\n",
       "      <td>NaN</td>\n",
       "      <td>20.6</td>\n",
       "      <td>0.0</td>\n",
       "      <td>NaN</td>\n",
       "      <td>1019.0</td>\n",
       "      <td>290.0</td>\n",
       "      <td>1.5</td>\n",
       "    </tr>\n",
       "  </tbody>\n",
       "</table>\n",
       "</div>"
      ],
      "text/plain": [
       "             timestamp  site_id  airTemperature  cloudCoverage  \\\n",
       "0  2016-01-01 00:00:00  Panther            19.4            NaN   \n",
       "1  2016-01-01 01:00:00  Panther            21.1            6.0   \n",
       "2  2016-01-01 02:00:00  Panther            21.1            NaN   \n",
       "3  2016-01-01 03:00:00  Panther            20.6            NaN   \n",
       "4  2016-01-01 04:00:00  Panther            21.1            NaN   \n",
       "\n",
       "   dewTemperature  precipDepth1HR  precipDepth6HR  seaLvlPressure  \\\n",
       "0            19.4             0.0             NaN             NaN   \n",
       "1            21.1            -1.0             NaN          1019.4   \n",
       "2            21.1             0.0             NaN          1018.8   \n",
       "3            20.0             0.0             NaN          1018.1   \n",
       "4            20.6             0.0             NaN          1019.0   \n",
       "\n",
       "   windDirection  windSpeed  \n",
       "0            0.0        0.0  \n",
       "1            0.0        0.0  \n",
       "2          210.0        1.5  \n",
       "3            0.0        0.0  \n",
       "4          290.0        1.5  "
      ]
     },
     "execution_count": 5,
     "metadata": {},
     "output_type": "execute_result"
    }
   ],
   "source": [
    "weather.head()"
   ]
  },
  {
   "cell_type": "markdown",
   "id": "e281d413",
   "metadata": {},
   "source": [
    "\n",
    "## Load raw dataset"
   ]
  },
  {
   "cell_type": "code",
   "execution_count": 6,
   "id": "c570a318",
   "metadata": {},
   "outputs": [],
   "source": [
    "raw_meters_path = \"..\\\\data\\\\meters\\\\raw\\\\\"\n",
    "\n",
    "# files in directory\n",
    "files = glob(raw_meters_path + \"*.csv\")"
   ]
  },
  {
   "cell_type": "code",
   "execution_count": 7,
   "id": "f621b97b",
   "metadata": {},
   "outputs": [
    {
     "data": {
      "text/html": [
       "<div>\n",
       "<style scoped>\n",
       "    .dataframe tbody tr th:only-of-type {\n",
       "        vertical-align: middle;\n",
       "    }\n",
       "\n",
       "    .dataframe tbody tr th {\n",
       "        vertical-align: top;\n",
       "    }\n",
       "\n",
       "    .dataframe thead th {\n",
       "        text-align: right;\n",
       "    }\n",
       "</style>\n",
       "<table border=\"1\" class=\"dataframe\">\n",
       "  <thead>\n",
       "    <tr style=\"text-align: right;\">\n",
       "      <th></th>\n",
       "      <th>timestamp</th>\n",
       "      <th>building_id</th>\n",
       "      <th>meter_reading</th>\n",
       "      <th>meter</th>\n",
       "    </tr>\n",
       "  </thead>\n",
       "  <tbody>\n",
       "    <tr>\n",
       "      <th>0</th>\n",
       "      <td>2016-01-01 00:00:00</td>\n",
       "      <td>Panther_office_Clementine</td>\n",
       "      <td>NaN</td>\n",
       "      <td>chilledwater</td>\n",
       "    </tr>\n",
       "    <tr>\n",
       "      <th>1</th>\n",
       "      <td>2016-01-01 01:00:00</td>\n",
       "      <td>Panther_office_Clementine</td>\n",
       "      <td>NaN</td>\n",
       "      <td>chilledwater</td>\n",
       "    </tr>\n",
       "    <tr>\n",
       "      <th>2</th>\n",
       "      <td>2016-01-01 02:00:00</td>\n",
       "      <td>Panther_office_Clementine</td>\n",
       "      <td>NaN</td>\n",
       "      <td>chilledwater</td>\n",
       "    </tr>\n",
       "    <tr>\n",
       "      <th>3</th>\n",
       "      <td>2016-01-01 03:00:00</td>\n",
       "      <td>Panther_office_Clementine</td>\n",
       "      <td>NaN</td>\n",
       "      <td>chilledwater</td>\n",
       "    </tr>\n",
       "    <tr>\n",
       "      <th>4</th>\n",
       "      <td>2016-01-01 04:00:00</td>\n",
       "      <td>Panther_office_Clementine</td>\n",
       "      <td>NaN</td>\n",
       "      <td>chilledwater</td>\n",
       "    </tr>\n",
       "  </tbody>\n",
       "</table>\n",
       "</div>"
      ],
      "text/plain": [
       "             timestamp                building_id  meter_reading         meter\n",
       "0  2016-01-01 00:00:00  Panther_office_Clementine            NaN  chilledwater\n",
       "1  2016-01-01 01:00:00  Panther_office_Clementine            NaN  chilledwater\n",
       "2  2016-01-01 02:00:00  Panther_office_Clementine            NaN  chilledwater\n",
       "3  2016-01-01 03:00:00  Panther_office_Clementine            NaN  chilledwater\n",
       "4  2016-01-01 04:00:00  Panther_office_Clementine            NaN  chilledwater"
      ]
     },
     "execution_count": 7,
     "metadata": {},
     "output_type": "execute_result"
    }
   ],
   "source": [
    "\n",
    "dfs = [] # empty list of the dataframes to create\n",
    "for file in files: # for each file in directory\n",
    "    meter_type = file.split(\"\\\\\")[4].split(\".\")[0] # meter_type to rename the value feature\n",
    "    meter = pd.read_csv(file) # load the dataset\n",
    "    meter = pd.melt(meter, id_vars = \"timestamp\", var_name = \"building_id\", value_name = \"meter_reading\") # melt dataset\n",
    "    meter[\"meter\"] = str(meter_type) # adds column with the meter type\n",
    "    dfs.append(meter) # append to list\n",
    "raw_data_cleaned = pd.concat(dfs, axis=0, ignore_index=True) # concatenate all meter\n",
    "del(dfs, meter, file, files, meter_type)\n",
    "\n",
    "raw_data_cleaned.head()\n"
   ]
  },
  {
   "cell_type": "markdown",
   "id": "8f94d826",
   "metadata": {},
   "source": [
    "## Load cleaned dataset\n"
   ]
  },
  {
   "cell_type": "code",
   "execution_count": 8,
   "id": "6090894f",
   "metadata": {},
   "outputs": [],
   "source": [
    "cleaned_meters_path = \"..\\\\data\\\\meters\\\\cleaned\\\\\"\n",
    "\n",
    "# files in directory\n",
    "files = glob(cleaned_meters_path + \"*.csv\")\n"
   ]
  },
  {
   "cell_type": "code",
   "execution_count": 9,
   "id": "bd253e6a",
   "metadata": {},
   "outputs": [
    {
     "data": {
      "text/html": [
       "<div>\n",
       "<style scoped>\n",
       "    .dataframe tbody tr th:only-of-type {\n",
       "        vertical-align: middle;\n",
       "    }\n",
       "\n",
       "    .dataframe tbody tr th {\n",
       "        vertical-align: top;\n",
       "    }\n",
       "\n",
       "    .dataframe thead th {\n",
       "        text-align: right;\n",
       "    }\n",
       "</style>\n",
       "<table border=\"1\" class=\"dataframe\">\n",
       "  <thead>\n",
       "    <tr style=\"text-align: right;\">\n",
       "      <th></th>\n",
       "      <th>timestamp</th>\n",
       "      <th>building_id</th>\n",
       "      <th>meter_reading</th>\n",
       "      <th>meter</th>\n",
       "    </tr>\n",
       "  </thead>\n",
       "  <tbody>\n",
       "    <tr>\n",
       "      <th>0</th>\n",
       "      <td>2016-01-01 00:00:00</td>\n",
       "      <td>Panther_office_Clementine</td>\n",
       "      <td>NaN</td>\n",
       "      <td>chilledwater_cleaned</td>\n",
       "    </tr>\n",
       "    <tr>\n",
       "      <th>1</th>\n",
       "      <td>2016-01-01 01:00:00</td>\n",
       "      <td>Panther_office_Clementine</td>\n",
       "      <td>NaN</td>\n",
       "      <td>chilledwater_cleaned</td>\n",
       "    </tr>\n",
       "    <tr>\n",
       "      <th>2</th>\n",
       "      <td>2016-01-01 02:00:00</td>\n",
       "      <td>Panther_office_Clementine</td>\n",
       "      <td>NaN</td>\n",
       "      <td>chilledwater_cleaned</td>\n",
       "    </tr>\n",
       "    <tr>\n",
       "      <th>3</th>\n",
       "      <td>2016-01-01 03:00:00</td>\n",
       "      <td>Panther_office_Clementine</td>\n",
       "      <td>NaN</td>\n",
       "      <td>chilledwater_cleaned</td>\n",
       "    </tr>\n",
       "    <tr>\n",
       "      <th>4</th>\n",
       "      <td>2016-01-01 04:00:00</td>\n",
       "      <td>Panther_office_Clementine</td>\n",
       "      <td>NaN</td>\n",
       "      <td>chilledwater_cleaned</td>\n",
       "    </tr>\n",
       "  </tbody>\n",
       "</table>\n",
       "</div>"
      ],
      "text/plain": [
       "             timestamp                building_id  meter_reading  \\\n",
       "0  2016-01-01 00:00:00  Panther_office_Clementine            NaN   \n",
       "1  2016-01-01 01:00:00  Panther_office_Clementine            NaN   \n",
       "2  2016-01-01 02:00:00  Panther_office_Clementine            NaN   \n",
       "3  2016-01-01 03:00:00  Panther_office_Clementine            NaN   \n",
       "4  2016-01-01 04:00:00  Panther_office_Clementine            NaN   \n",
       "\n",
       "                  meter  \n",
       "0  chilledwater_cleaned  \n",
       "1  chilledwater_cleaned  \n",
       "2  chilledwater_cleaned  \n",
       "3  chilledwater_cleaned  \n",
       "4  chilledwater_cleaned  "
      ]
     },
     "execution_count": 9,
     "metadata": {},
     "output_type": "execute_result"
    }
   ],
   "source": [
    "dfs = [] # empty list of the dataframes to create\n",
    "for file in files: # for each file in directory\n",
    "    meter_type = file.split(\"\\\\\")[4].split(\".\")[0] # meter_type to rename the value feature\n",
    "    meter = pd.read_csv(file) # load the dataset\n",
    "    meter = pd.melt(meter, id_vars = \"timestamp\", var_name = \"building_id\", value_name = \"meter_reading\") # melt dataset\n",
    "    meter[\"meter\"] = str(meter_type) # adds column with the meter type\n",
    "    dfs.append(meter) # append to list\n",
    "complete_data_cleaned = pd.concat(dfs, axis=0, ignore_index=True) # concatenate all meter\n",
    "del(dfs, meter, file, files, meter_type)\n",
    "\n",
    "complete_data_cleaned.head()\n"
   ]
  },
  {
   "cell_type": "code",
   "execution_count": 10,
   "id": "3b03e0a1",
   "metadata": {
    "scrolled": true
   },
   "outputs": [],
   "source": [
    "# Note this cell might take some time to finish\n",
    "\n",
    "# Convert timestamp field from string into pd.datetime object\n",
    "complete_data_cleaned['timestamp'] = pd.to_datetime(complete_data_cleaned['timestamp'])\n",
    "\n",
    "# Add column indicating the year, month and dayOfTheWeek for that timestamp\n",
    "complete_data_cleaned['date'] = complete_data_cleaned['timestamp'].dt.date\n",
    "complete_data_cleaned['year'] = complete_data_cleaned['timestamp'].dt.year\n",
    "complete_data_cleaned['month'] = complete_data_cleaned['timestamp'].dt.month\n",
    "complete_data_cleaned['dayOfWekk'] = complete_data_cleaned['timestamp'].dt.dayofweek\n"
   ]
  },
  {
   "cell_type": "markdown",
   "id": "01c4e9e9",
   "metadata": {},
   "source": [
    "# Load benchmarks\n"
   ]
  },
  {
   "cell_type": "code",
   "execution_count": 11,
   "id": "56583e1d",
   "metadata": {
    "scrolled": true
   },
   "outputs": [
    {
     "data": {
      "text/html": [
       "<div>\n",
       "<style scoped>\n",
       "    .dataframe tbody tr th:only-of-type {\n",
       "        vertical-align: middle;\n",
       "    }\n",
       "\n",
       "    .dataframe tbody tr th {\n",
       "        vertical-align: top;\n",
       "    }\n",
       "\n",
       "    .dataframe thead th {\n",
       "        text-align: right;\n",
       "    }\n",
       "</style>\n",
       "<table border=\"1\" class=\"dataframe\">\n",
       "  <thead>\n",
       "    <tr style=\"text-align: right;\">\n",
       "      <th></th>\n",
       "      <th>name</th>\n",
       "      <th>building_id</th>\n",
       "      <th>RMSE</th>\n",
       "      <th>MAE</th>\n",
       "      <th>horizon</th>\n",
       "    </tr>\n",
       "  </thead>\n",
       "  <tbody>\n",
       "    <tr>\n",
       "      <th>0</th>\n",
       "      <td>Bear_utility_Sidney</td>\n",
       "      <td>utility</td>\n",
       "      <td>1.157131</td>\n",
       "      <td>0.846614</td>\n",
       "      <td>hourly</td>\n",
       "    </tr>\n",
       "    <tr>\n",
       "      <th>1</th>\n",
       "      <td>Bear_utility_Sidney</td>\n",
       "      <td>utility</td>\n",
       "      <td>1.255013</td>\n",
       "      <td>0.862390</td>\n",
       "      <td>daily</td>\n",
       "    </tr>\n",
       "    <tr>\n",
       "      <th>2</th>\n",
       "      <td>Bear_utility_Sidney</td>\n",
       "      <td>utility</td>\n",
       "      <td>1.851878</td>\n",
       "      <td>1.167219</td>\n",
       "      <td>weekly</td>\n",
       "    </tr>\n",
       "    <tr>\n",
       "      <th>3</th>\n",
       "      <td>Cockatoo_religion_Diedre</td>\n",
       "      <td>religion</td>\n",
       "      <td>1.475301</td>\n",
       "      <td>1.018945</td>\n",
       "      <td>hourly</td>\n",
       "    </tr>\n",
       "    <tr>\n",
       "      <th>4</th>\n",
       "      <td>Cockatoo_religion_Diedre</td>\n",
       "      <td>religion</td>\n",
       "      <td>2.349360</td>\n",
       "      <td>1.820794</td>\n",
       "      <td>daily</td>\n",
       "    </tr>\n",
       "    <tr>\n",
       "      <th>5</th>\n",
       "      <td>Cockatoo_religion_Diedre</td>\n",
       "      <td>religion</td>\n",
       "      <td>2.833513</td>\n",
       "      <td>1.958076</td>\n",
       "      <td>weekly</td>\n",
       "    </tr>\n",
       "    <tr>\n",
       "      <th>6</th>\n",
       "      <td>Cockatoo_science_Rex</td>\n",
       "      <td>science</td>\n",
       "      <td>7.304536</td>\n",
       "      <td>5.529282</td>\n",
       "      <td>hourly</td>\n",
       "    </tr>\n",
       "    <tr>\n",
       "      <th>7</th>\n",
       "      <td>Cockatoo_science_Rex</td>\n",
       "      <td>science</td>\n",
       "      <td>10.882962</td>\n",
       "      <td>7.975783</td>\n",
       "      <td>daily</td>\n",
       "    </tr>\n",
       "    <tr>\n",
       "      <th>8</th>\n",
       "      <td>Cockatoo_science_Rex</td>\n",
       "      <td>science</td>\n",
       "      <td>12.667458</td>\n",
       "      <td>8.261340</td>\n",
       "      <td>weekly</td>\n",
       "    </tr>\n",
       "    <tr>\n",
       "      <th>9</th>\n",
       "      <td>Eagle_education_Teresa</td>\n",
       "      <td>education</td>\n",
       "      <td>8.286079</td>\n",
       "      <td>5.855556</td>\n",
       "      <td>hourly</td>\n",
       "    </tr>\n",
       "    <tr>\n",
       "      <th>10</th>\n",
       "      <td>Eagle_education_Teresa</td>\n",
       "      <td>education</td>\n",
       "      <td>11.534440</td>\n",
       "      <td>8.819952</td>\n",
       "      <td>daily</td>\n",
       "    </tr>\n",
       "    <tr>\n",
       "      <th>11</th>\n",
       "      <td>Eagle_education_Teresa</td>\n",
       "      <td>education</td>\n",
       "      <td>14.939611</td>\n",
       "      <td>10.992661</td>\n",
       "      <td>weekly</td>\n",
       "    </tr>\n",
       "    <tr>\n",
       "      <th>12</th>\n",
       "      <td>Eagle_health_Lucinda</td>\n",
       "      <td>health</td>\n",
       "      <td>24.377798</td>\n",
       "      <td>14.279867</td>\n",
       "      <td>hourly</td>\n",
       "    </tr>\n",
       "    <tr>\n",
       "      <th>13</th>\n",
       "      <td>Eagle_health_Lucinda</td>\n",
       "      <td>health</td>\n",
       "      <td>40.084198</td>\n",
       "      <td>28.209270</td>\n",
       "      <td>daily</td>\n",
       "    </tr>\n",
       "    <tr>\n",
       "      <th>14</th>\n",
       "      <td>Eagle_health_Lucinda</td>\n",
       "      <td>health</td>\n",
       "      <td>50.877437</td>\n",
       "      <td>35.407537</td>\n",
       "      <td>weekly</td>\n",
       "    </tr>\n",
       "    <tr>\n",
       "      <th>15</th>\n",
       "      <td>Fox_food_Francesco</td>\n",
       "      <td>food</td>\n",
       "      <td>9.409997</td>\n",
       "      <td>6.518361</td>\n",
       "      <td>hourly</td>\n",
       "    </tr>\n",
       "    <tr>\n",
       "      <th>16</th>\n",
       "      <td>Fox_food_Francesco</td>\n",
       "      <td>food</td>\n",
       "      <td>10.331829</td>\n",
       "      <td>7.536682</td>\n",
       "      <td>daily</td>\n",
       "    </tr>\n",
       "    <tr>\n",
       "      <th>17</th>\n",
       "      <td>Fox_food_Francesco</td>\n",
       "      <td>food</td>\n",
       "      <td>18.896017</td>\n",
       "      <td>10.796031</td>\n",
       "      <td>weekly</td>\n",
       "    </tr>\n",
       "    <tr>\n",
       "      <th>18</th>\n",
       "      <td>Fox_parking_Tommie</td>\n",
       "      <td>parking</td>\n",
       "      <td>2.536276</td>\n",
       "      <td>1.177474</td>\n",
       "      <td>hourly</td>\n",
       "    </tr>\n",
       "    <tr>\n",
       "      <th>19</th>\n",
       "      <td>Fox_parking_Tommie</td>\n",
       "      <td>parking</td>\n",
       "      <td>3.155471</td>\n",
       "      <td>1.812750</td>\n",
       "      <td>daily</td>\n",
       "    </tr>\n",
       "    <tr>\n",
       "      <th>20</th>\n",
       "      <td>Fox_parking_Tommie</td>\n",
       "      <td>parking</td>\n",
       "      <td>3.463871</td>\n",
       "      <td>1.573460</td>\n",
       "      <td>weekly</td>\n",
       "    </tr>\n",
       "    <tr>\n",
       "      <th>21</th>\n",
       "      <td>Gator_other_Gertrude</td>\n",
       "      <td>other</td>\n",
       "      <td>0.232520</td>\n",
       "      <td>0.051120</td>\n",
       "      <td>hourly</td>\n",
       "    </tr>\n",
       "    <tr>\n",
       "      <th>22</th>\n",
       "      <td>Gator_other_Gertrude</td>\n",
       "      <td>other</td>\n",
       "      <td>1.070888</td>\n",
       "      <td>0.786288</td>\n",
       "      <td>daily</td>\n",
       "    </tr>\n",
       "    <tr>\n",
       "      <th>23</th>\n",
       "      <td>Gator_other_Gertrude</td>\n",
       "      <td>other</td>\n",
       "      <td>1.404810</td>\n",
       "      <td>0.946556</td>\n",
       "      <td>weekly</td>\n",
       "    </tr>\n",
       "    <tr>\n",
       "      <th>24</th>\n",
       "      <td>Hog_office_Bill</td>\n",
       "      <td>office</td>\n",
       "      <td>18.614739</td>\n",
       "      <td>10.711040</td>\n",
       "      <td>hourly</td>\n",
       "    </tr>\n",
       "    <tr>\n",
       "      <th>25</th>\n",
       "      <td>Hog_office_Bill</td>\n",
       "      <td>office</td>\n",
       "      <td>46.933820</td>\n",
       "      <td>29.432126</td>\n",
       "      <td>daily</td>\n",
       "    </tr>\n",
       "    <tr>\n",
       "      <th>26</th>\n",
       "      <td>Hog_office_Bill</td>\n",
       "      <td>office</td>\n",
       "      <td>60.590159</td>\n",
       "      <td>34.006334</td>\n",
       "      <td>weekly</td>\n",
       "    </tr>\n",
       "    <tr>\n",
       "      <th>27</th>\n",
       "      <td>Hog_services_Kerrie</td>\n",
       "      <td>services</td>\n",
       "      <td>2.075842</td>\n",
       "      <td>1.448992</td>\n",
       "      <td>hourly</td>\n",
       "    </tr>\n",
       "    <tr>\n",
       "      <th>28</th>\n",
       "      <td>Hog_services_Kerrie</td>\n",
       "      <td>services</td>\n",
       "      <td>3.061034</td>\n",
       "      <td>2.400821</td>\n",
       "      <td>daily</td>\n",
       "    </tr>\n",
       "    <tr>\n",
       "      <th>29</th>\n",
       "      <td>Hog_services_Kerrie</td>\n",
       "      <td>services</td>\n",
       "      <td>3.818607</td>\n",
       "      <td>2.549373</td>\n",
       "      <td>weekly</td>\n",
       "    </tr>\n",
       "    <tr>\n",
       "      <th>30</th>\n",
       "      <td>Hog_warehouse_Porsha</td>\n",
       "      <td>warehouse</td>\n",
       "      <td>1.958354</td>\n",
       "      <td>0.945058</td>\n",
       "      <td>hourly</td>\n",
       "    </tr>\n",
       "    <tr>\n",
       "      <th>31</th>\n",
       "      <td>Hog_warehouse_Porsha</td>\n",
       "      <td>warehouse</td>\n",
       "      <td>2.141530</td>\n",
       "      <td>1.150929</td>\n",
       "      <td>daily</td>\n",
       "    </tr>\n",
       "    <tr>\n",
       "      <th>32</th>\n",
       "      <td>Hog_warehouse_Porsha</td>\n",
       "      <td>warehouse</td>\n",
       "      <td>2.911756</td>\n",
       "      <td>1.397100</td>\n",
       "      <td>weekly</td>\n",
       "    </tr>\n",
       "    <tr>\n",
       "      <th>33</th>\n",
       "      <td>Lamb_assembly_Bertie</td>\n",
       "      <td>assembly</td>\n",
       "      <td>17.967060</td>\n",
       "      <td>10.985065</td>\n",
       "      <td>hourly</td>\n",
       "    </tr>\n",
       "    <tr>\n",
       "      <th>34</th>\n",
       "      <td>Lamb_assembly_Bertie</td>\n",
       "      <td>assembly</td>\n",
       "      <td>28.582859</td>\n",
       "      <td>22.667979</td>\n",
       "      <td>daily</td>\n",
       "    </tr>\n",
       "    <tr>\n",
       "      <th>35</th>\n",
       "      <td>Lamb_assembly_Bertie</td>\n",
       "      <td>assembly</td>\n",
       "      <td>48.756165</td>\n",
       "      <td>28.608991</td>\n",
       "      <td>weekly</td>\n",
       "    </tr>\n",
       "    <tr>\n",
       "      <th>36</th>\n",
       "      <td>Lamb_industrial_Carla</td>\n",
       "      <td>industrial</td>\n",
       "      <td>45.353234</td>\n",
       "      <td>30.321867</td>\n",
       "      <td>hourly</td>\n",
       "    </tr>\n",
       "    <tr>\n",
       "      <th>37</th>\n",
       "      <td>Lamb_industrial_Carla</td>\n",
       "      <td>industrial</td>\n",
       "      <td>43.913538</td>\n",
       "      <td>31.891065</td>\n",
       "      <td>daily</td>\n",
       "    </tr>\n",
       "    <tr>\n",
       "      <th>38</th>\n",
       "      <td>Lamb_industrial_Carla</td>\n",
       "      <td>industrial</td>\n",
       "      <td>53.681570</td>\n",
       "      <td>26.884887</td>\n",
       "      <td>weekly</td>\n",
       "    </tr>\n",
       "    <tr>\n",
       "      <th>39</th>\n",
       "      <td>Peacock_lodging_Matthew</td>\n",
       "      <td>lodging</td>\n",
       "      <td>3.862391</td>\n",
       "      <td>2.968328</td>\n",
       "      <td>hourly</td>\n",
       "    </tr>\n",
       "    <tr>\n",
       "      <th>40</th>\n",
       "      <td>Peacock_lodging_Matthew</td>\n",
       "      <td>lodging</td>\n",
       "      <td>4.518313</td>\n",
       "      <td>3.510761</td>\n",
       "      <td>daily</td>\n",
       "    </tr>\n",
       "    <tr>\n",
       "      <th>41</th>\n",
       "      <td>Peacock_lodging_Matthew</td>\n",
       "      <td>lodging</td>\n",
       "      <td>8.428719</td>\n",
       "      <td>6.074870</td>\n",
       "      <td>weekly</td>\n",
       "    </tr>\n",
       "    <tr>\n",
       "      <th>42</th>\n",
       "      <td>Rat_public_Loretta</td>\n",
       "      <td>public</td>\n",
       "      <td>2.925038</td>\n",
       "      <td>1.817659</td>\n",
       "      <td>hourly</td>\n",
       "    </tr>\n",
       "    <tr>\n",
       "      <th>43</th>\n",
       "      <td>Rat_public_Loretta</td>\n",
       "      <td>public</td>\n",
       "      <td>9.891990</td>\n",
       "      <td>6.787990</td>\n",
       "      <td>daily</td>\n",
       "    </tr>\n",
       "    <tr>\n",
       "      <th>44</th>\n",
       "      <td>Rat_public_Loretta</td>\n",
       "      <td>public</td>\n",
       "      <td>16.948175</td>\n",
       "      <td>12.082286</td>\n",
       "      <td>weekly</td>\n",
       "    </tr>\n",
       "    <tr>\n",
       "      <th>45</th>\n",
       "      <td>Wolf_retail_Marcella</td>\n",
       "      <td>retail</td>\n",
       "      <td>1.187043</td>\n",
       "      <td>0.793767</td>\n",
       "      <td>hourly</td>\n",
       "    </tr>\n",
       "    <tr>\n",
       "      <th>46</th>\n",
       "      <td>Wolf_retail_Marcella</td>\n",
       "      <td>retail</td>\n",
       "      <td>1.857042</td>\n",
       "      <td>1.375036</td>\n",
       "      <td>daily</td>\n",
       "    </tr>\n",
       "    <tr>\n",
       "      <th>47</th>\n",
       "      <td>Wolf_retail_Marcella</td>\n",
       "      <td>retail</td>\n",
       "      <td>3.254573</td>\n",
       "      <td>2.155485</td>\n",
       "      <td>weekly</td>\n",
       "    </tr>\n",
       "  </tbody>\n",
       "</table>\n",
       "</div>"
      ],
      "text/plain": [
       "                        name building_id       RMSE        MAE horizon\n",
       "0        Bear_utility_Sidney     utility   1.157131   0.846614  hourly\n",
       "1        Bear_utility_Sidney     utility   1.255013   0.862390   daily\n",
       "2        Bear_utility_Sidney     utility   1.851878   1.167219  weekly\n",
       "3   Cockatoo_religion_Diedre    religion   1.475301   1.018945  hourly\n",
       "4   Cockatoo_religion_Diedre    religion   2.349360   1.820794   daily\n",
       "5   Cockatoo_religion_Diedre    religion   2.833513   1.958076  weekly\n",
       "6       Cockatoo_science_Rex     science   7.304536   5.529282  hourly\n",
       "7       Cockatoo_science_Rex     science  10.882962   7.975783   daily\n",
       "8       Cockatoo_science_Rex     science  12.667458   8.261340  weekly\n",
       "9     Eagle_education_Teresa   education   8.286079   5.855556  hourly\n",
       "10    Eagle_education_Teresa   education  11.534440   8.819952   daily\n",
       "11    Eagle_education_Teresa   education  14.939611  10.992661  weekly\n",
       "12      Eagle_health_Lucinda      health  24.377798  14.279867  hourly\n",
       "13      Eagle_health_Lucinda      health  40.084198  28.209270   daily\n",
       "14      Eagle_health_Lucinda      health  50.877437  35.407537  weekly\n",
       "15        Fox_food_Francesco        food   9.409997   6.518361  hourly\n",
       "16        Fox_food_Francesco        food  10.331829   7.536682   daily\n",
       "17        Fox_food_Francesco        food  18.896017  10.796031  weekly\n",
       "18        Fox_parking_Tommie     parking   2.536276   1.177474  hourly\n",
       "19        Fox_parking_Tommie     parking   3.155471   1.812750   daily\n",
       "20        Fox_parking_Tommie     parking   3.463871   1.573460  weekly\n",
       "21      Gator_other_Gertrude       other   0.232520   0.051120  hourly\n",
       "22      Gator_other_Gertrude       other   1.070888   0.786288   daily\n",
       "23      Gator_other_Gertrude       other   1.404810   0.946556  weekly\n",
       "24           Hog_office_Bill      office  18.614739  10.711040  hourly\n",
       "25           Hog_office_Bill      office  46.933820  29.432126   daily\n",
       "26           Hog_office_Bill      office  60.590159  34.006334  weekly\n",
       "27       Hog_services_Kerrie    services   2.075842   1.448992  hourly\n",
       "28       Hog_services_Kerrie    services   3.061034   2.400821   daily\n",
       "29       Hog_services_Kerrie    services   3.818607   2.549373  weekly\n",
       "30      Hog_warehouse_Porsha   warehouse   1.958354   0.945058  hourly\n",
       "31      Hog_warehouse_Porsha   warehouse   2.141530   1.150929   daily\n",
       "32      Hog_warehouse_Porsha   warehouse   2.911756   1.397100  weekly\n",
       "33      Lamb_assembly_Bertie    assembly  17.967060  10.985065  hourly\n",
       "34      Lamb_assembly_Bertie    assembly  28.582859  22.667979   daily\n",
       "35      Lamb_assembly_Bertie    assembly  48.756165  28.608991  weekly\n",
       "36     Lamb_industrial_Carla  industrial  45.353234  30.321867  hourly\n",
       "37     Lamb_industrial_Carla  industrial  43.913538  31.891065   daily\n",
       "38     Lamb_industrial_Carla  industrial  53.681570  26.884887  weekly\n",
       "39   Peacock_lodging_Matthew     lodging   3.862391   2.968328  hourly\n",
       "40   Peacock_lodging_Matthew     lodging   4.518313   3.510761   daily\n",
       "41   Peacock_lodging_Matthew     lodging   8.428719   6.074870  weekly\n",
       "42        Rat_public_Loretta      public   2.925038   1.817659  hourly\n",
       "43        Rat_public_Loretta      public   9.891990   6.787990   daily\n",
       "44        Rat_public_Loretta      public  16.948175  12.082286  weekly\n",
       "45      Wolf_retail_Marcella      retail   1.187043   0.793767  hourly\n",
       "46      Wolf_retail_Marcella      retail   1.857042   1.375036   daily\n",
       "47      Wolf_retail_Marcella      retail   3.254573   2.155485  weekly"
      ]
     },
     "execution_count": 11,
     "metadata": {},
     "output_type": "execute_result"
    }
   ],
   "source": [
    "cleaned_meters_path = \"..\\\\data\\\\\"\n",
    "\n",
    "# files in directory\n",
    "files = glob(cleaned_meters_path + \"*.csv\")\n",
    "\n",
    "\n",
    "benchmark = pd.read_csv(files[0]) # load the dataset\n",
    "\n",
    "benchmark"
   ]
  },
  {
   "cell_type": "code",
   "execution_count": 22,
   "id": "dafe5d09",
   "metadata": {},
   "outputs": [],
   "source": [
    "buildingIds = benchmark['name'].unique()"
   ]
  },
  {
   "cell_type": "markdown",
   "id": "469aace4",
   "metadata": {},
   "source": [
    "# Gaussian Process Regression\n",
    "\n",
    "## Implement Helper Functions"
   ]
  },
  {
   "cell_type": "code",
   "execution_count": 12,
   "id": "4d986cae",
   "metadata": {},
   "outputs": [],
   "source": [
    "\"\"\"\n",
    "Normalizes the data to a Gaussian distribution using quantiles.\n",
    "\"\"\"\n",
    "def normalizeToGaussian(arr, mode=\"mean\"):\n",
    "    n = len(arr)\n",
    "    perc = percentileofscore\n",
    "    arr_ = arr.copy()[~np.isnan(arr)]\n",
    "    out = np.zeros(n)\n",
    "    for i in range(n):\n",
    "        if not np.isnan(arr[i]):\n",
    "            out[i] = norm.ppf(perc(arr_, arr[i], mode) / 100.)\n",
    "        else:\n",
    "            out[i] = np.nan\n",
    "    return out\n"
   ]
  },
  {
   "cell_type": "code",
   "execution_count": 13,
   "id": "65d5d52a",
   "metadata": {},
   "outputs": [],
   "source": [
    "'''\n",
    "Function that transforms the Gaussian normalisation back to percentiles of scores\n",
    "'''\n",
    "def gaussianToCdf(arr):\n",
    "    n = len(arr)\n",
    "    out = np.zeros(n)\n",
    "    for i in range(n):\n",
    "        if not np.isnan(arr[i]):\n",
    "            out[i] = norm.cdf(arr[i])\n",
    "        else:\n",
    "            out[i] = np.nan\n",
    "            \n",
    "    out = out\n",
    "    \n",
    "    return out"
   ]
  },
  {
   "cell_type": "code",
   "execution_count": 14,
   "id": "e0725cc7",
   "metadata": {},
   "outputs": [],
   "source": [
    "def transformIntoOriginalRange(arr, original):\n",
    "\n",
    "    \n",
    "    original_min = np.min(original)\n",
    "    original_max = np.max(original)\n",
    "    original_mean = np.nanmean(original) \n",
    "    original_std = np.nanstd(original)\n",
    "\n",
    "    # Calculate the range, mean, and standard deviation of the predictions\n",
    "    arr_range = np.max(arr) - np.min(arr)\n",
    "    arr_mean = np.mean(arr)\n",
    "    arr_std = np.std(arr)\n",
    "\n",
    "    # Rescale the predictions based on the original signal's range and statistics\n",
    "    rescaled = (\n",
    "        (arr - arr_mean) * (original_std / arr_std) + original_mean\n",
    "    )\n",
    "\n",
    "    # Adjust the rescaled predictions to fit within the original signal's range\n",
    "    min_diff = original_min - np.min(rescaled)\n",
    "    max_diff = np.max(rescaled) - original_max\n",
    "    if min_diff > 0:\n",
    "        rescaled -= min_diff\n",
    "    elif max_diff > 0:\n",
    "        rescaled -= max_diff\n",
    " \n",
    "    return rescaled"
   ]
  },
  {
   "cell_type": "code",
   "execution_count": 15,
   "id": "43572cf7",
   "metadata": {},
   "outputs": [],
   "source": [
    "'''\n",
    "Replaces missing values in the dataframe with the mean of the month for all years from which we have data\n",
    "@param dataframe\n",
    "@returns numpy array\n",
    "'''\n",
    "def averageNaNs (df, field):\n",
    "    mean_df = df.groupby(['month']).mean()\n",
    "    averaged_mean = df[field].copy().fillna(df['month'].map({1: mean_df[field][1] , 2: mean_df[field][2], 3:mean_df[field][3],\n",
    "                                                    4: mean_df[field][4] , 5: mean_df[field][5], 6:mean_df[field][6], \n",
    "                                                    7: mean_df[field][7] , 8: mean_df[field][8], 9:mean_df[field][9],\n",
    "                                                    10: mean_df[field][10] , 11: mean_df[field][11], 12:mean_df[field][12]}))\n",
    "    \n",
    "    averaged_numpy = averaged_mean.to_numpy()\n",
    "    return averaged_numpy"
   ]
  },
  {
   "cell_type": "code",
   "execution_count": 16,
   "id": "242e16c4",
   "metadata": {},
   "outputs": [],
   "source": [
    "'''\n",
    "Train a Gaussian Process model based on the training data\n",
    "@param two numpy arrays of same dimensionality\n",
    "@returns numpy array with lenght NUMBER_OF_DIMENSIONS, containing the indices of the most correlated stations\n",
    "'''\n",
    "def trainGP (X_train, Y_train):\n",
    "    \n",
    "    # Shape of training data needs to be consistent \n",
    "    assert X_train.shape[0] == Y_train.shape[0]\n",
    "    \n",
    "    kernel = GPy.kern.RBF(input_dim=X_train.shape[1])\n",
    "    model = GPy.models.GPRegression(X_train, Y_train, kernel)\n",
    "    model.optimize(messages=True)\n",
    "    model.optimize_restarts(num_restarts=10)\n",
    "    \n",
    "    return model"
   ]
  },
  {
   "cell_type": "code",
   "execution_count": null,
   "id": "0292ead4",
   "metadata": {},
   "outputs": [],
   "source": []
  },
  {
   "cell_type": "markdown",
   "id": "eb2b145a",
   "metadata": {
    "direction": "ltr"
   },
   "source": [
    "# So far unused helper functions"
   ]
  },
  {
   "cell_type": "code",
   "execution_count": 17,
   "id": "33bd4009",
   "metadata": {
    "scrolled": true
   },
   "outputs": [],
   "source": [
    "'''\n",
    "Computation of Spearmas Rank Correlation\n",
    "@param  target_df: a pandas.dataframe (target) for wich we want to calculate the correlation matrix \n",
    "        dataset: a list of pandas dataframes that build our base, as we check for the correlation between dataframe and each df in the truncated dataset\n",
    "@returns spearmans_matrix: a numpy.ndarray that contains the correlation value as first entry in each row and the corresponding p-value as a second element in each row. \n",
    "                            the order of stations in the matrix is consistent to the order in the dataset:\n",
    "'''\n",
    "def spearmansCorrelation (target_df, truncated_dataset): \n",
    "    spearmans_matrix = np.zeros((len(truncated_dataset), 2))\n",
    "    for index, df in enumerate(truncated_dataset): \n",
    "        if (target_df.shape[0]!= df.shape[0]) or (df['MEAN'].isnull().all()):\n",
    "            spearmans_matrix[index] = 0,100 \n",
    "            continue\n",
    "        else: \n",
    "            correlation, pval = stats.spearmanr(target_df['MEAN'], df['MEAN'], nan_policy='omit')\n",
    "            spearmans_matrix[index] = correlation,pval    \n",
    "            \n",
    "    return spearmans_matrix"
   ]
  },
  {
   "cell_type": "markdown",
   "id": "dd2a802d",
   "metadata": {},
   "source": [
    "### Load dataframe"
   ]
  },
  {
   "cell_type": "code",
   "execution_count": 18,
   "id": "0d737cf5",
   "metadata": {},
   "outputs": [],
   "source": [
    "# Convert timestamp field from string into pd.datetime object\n",
    "weather['timestamp'] = pd.to_datetime(weather['timestamp'])\n",
    "\n",
    "# Add column indicating the year, month and dayOfTheWeek for that timestamp\n",
    "weather['date'] = weather['timestamp'].dt.date\n",
    "weather['month'] = weather['timestamp'].dt.month"
   ]
  },
  {
   "cell_type": "code",
   "execution_count": 19,
   "id": "f07ec59c",
   "metadata": {},
   "outputs": [],
   "source": [
    "# Convert timestamp field from string into pd.datetime object\n",
    "complete_data_cleaned['timestamp'] = pd.to_datetime(complete_data_cleaned['timestamp'])\n",
    "\n",
    "# Add column indicating the year, month and dayOfTheWeek for that timestamp\n",
    "complete_data_cleaned['date'] = pd.to_datetime(complete_data_cleaned['timestamp']).dt.date\n",
    "complete_data_cleaned['year'] = pd.to_datetime(complete_data_cleaned['timestamp']).dt.year\n",
    "complete_data_cleaned['month'] = pd.to_datetime(complete_data_cleaned['timestamp']).dt.month\n",
    "complete_data_cleaned['dayOfWeek'] = complete_data_cleaned['timestamp'].dt.dayofweek\n"
   ]
  },
  {
   "cell_type": "code",
   "execution_count": 20,
   "id": "1ae18fe5",
   "metadata": {},
   "outputs": [],
   "source": [
    "# Find the dataframe that matches our building_id\n",
    "bear_sidney = complete_data_cleaned.loc[complete_data_cleaned['building_id']  == 'Bear_utility_Sidney']\n",
    "\n",
    "# For later reconstruction we split the original meter reading into train and test\n",
    "original_data_train, original_data_test = train_test_split(bear_sidney['meter_reading'], test_size=0.3, shuffle=False)\n",
    "\n",
    "# Load the meta data for the given building_id\n",
    "bear_sidney_meta = metadata.loc[metadata['building_id'] == 'Bear_utility_Sidney']\n",
    "\n",
    "# load the weather data for the location \n",
    "bear_weather = weather.loc[weather['site_id'] == 'Bear']"
   ]
  },
  {
   "cell_type": "markdown",
   "id": "45058acd",
   "metadata": {},
   "source": [
    "### Transform into Gaussian"
   ]
  },
  {
   "cell_type": "code",
   "execution_count": 21,
   "id": "b399855b",
   "metadata": {},
   "outputs": [],
   "source": [
    "bear_sidney_gauss = normalizeToGaussian(averageNaNs(bear_sidney, 'meter_reading'))"
   ]
  },
  {
   "cell_type": "code",
   "execution_count": 23,
   "id": "1d2e2beb",
   "metadata": {},
   "outputs": [],
   "source": [
    "bear_sidney_weather_air_temp = normalizeToGaussian(averageNaNs(bear_weather,'airTemperature'))\n",
    "bear_sidney_weather_dew_temp = normalizeToGaussian(averageNaNs(bear_weather,'dewTemperature'))\n",
    "bear_sidney_weather_precip_1HR = normalizeToGaussian(averageNaNs(bear_weather,'precipDepth1HR'))"
   ]
  },
  {
   "cell_type": "markdown",
   "id": "b8681658",
   "metadata": {},
   "source": [
    "### Split into train and test sets"
   ]
  },
  {
   "cell_type": "code",
   "execution_count": 24,
   "id": "29d021ba",
   "metadata": {},
   "outputs": [],
   "source": [
    "train_meter, test_meter = train_test_split(bear_sidney_gauss, test_size=0.3, shuffle=False)\n",
    "train_weather_air_temp, test_weather_air_temp = train_test_split(bear_sidney_weather_air_temp, test_size=0.3, shuffle=False)\n",
    "train_weather_dew_temp, test_weather_dew_temp = train_test_split(bear_sidney_weather_dew_temp, test_size=0.3, shuffle=False)\n",
    "train_weather_precip_1HR, test_weather_precip_1HR = train_test_split(bear_sidney_weather_precip_1HR, test_size=0.3, shuffle=False)"
   ]
  },
  {
   "cell_type": "code",
   "execution_count": 26,
   "id": "549c4fb9",
   "metadata": {
    "scrolled": true
   },
   "outputs": [],
   "source": [
    "X_train = np.column_stack(([train_weather_air_temp, train_weather_dew_temp, train_weather_precip_1HR]))\n",
    "X_test = np.column_stack(([test_weather_air_temp, test_weather_dew_temp, test_weather_precip_1HR]))"
   ]
  },
  {
   "cell_type": "markdown",
   "id": "84b0f5a9",
   "metadata": {},
   "source": [
    "## Specify and Train Gaussian Process model"
   ]
  },
  {
   "cell_type": "code",
   "execution_count": 27,
   "id": "754bc112",
   "metadata": {},
   "outputs": [
    {
     "data": {
      "application/vnd.jupyter.widget-view+json": {
       "model_id": "5db53cde807e47dfbbd0d4604e95e1c0",
       "version_major": 2,
       "version_minor": 0
      },
      "text/plain": [
       "HBox(children=(VBox(children=(IntProgress(value=0, max=1000), HTML(value=''))), Box(children=(HTML(value=''),)…"
      ]
     },
     "metadata": {},
     "output_type": "display_data"
    },
    {
     "data": {
      "text/plain": [
       "<paramz.optimization.optimization.opt_lbfgsb at 0x1a7e2bbd880>"
      ]
     },
     "execution_count": 27,
     "metadata": {},
     "output_type": "execute_result"
    }
   ],
   "source": [
    "# Specify the kernel: Radial basis function kernel (RBF)\n",
    "kernel = GPy.kern.RBF(input_dim=X_train.shape[1])  \n",
    "\n",
    "# Create a GP Regression model\n",
    "model = GPy.models.GPRegression(X_train[-3000:], train_meter[-3000:].reshape(-1,1), kernel)\n",
    "\n",
    "# Optimize model parameters\n",
    "model.optimize(messages=True)"
   ]
  },
  {
   "cell_type": "code",
   "execution_count": 28,
   "id": "8a3e7c4a",
   "metadata": {
    "scrolled": false
   },
   "outputs": [],
   "source": [
    "# Make predictions with the trained model\n",
    "mean, var = model.predict(X_test[0:200])"
   ]
  },
  {
   "cell_type": "markdown",
   "id": "f1ba1404",
   "metadata": {},
   "source": [
    "###### Plot the results given driectly from the GP\n",
    "\n",
    "Note as we previously transformed the data to be normal distributed, the data we obtain here is as well transformed <br>\n",
    "In order to reconstruct the original data we need to transform it back"
   ]
  },
  {
   "cell_type": "code",
   "execution_count": 29,
   "id": "0426e5c8",
   "metadata": {},
   "outputs": [
    {
     "data": {
      "image/png": "[encoded data removed]",
      "text/plain": [
       "<Figure size 864x288 with 1 Axes>"
      ]
     },
     "metadata": {
      "needs_background": "light"
     },
     "output_type": "display_data"
    }
   ],
   "source": [
    "x = np.linspace(0, np.size(mean), np.size(mean))\n",
    "\n",
    "plt.figure(figsize=(12,4))\n",
    "plt.xlabel('Hours')\n",
    "plt.ylabel('Energy_consumption')\n",
    "\n",
    "plt.plot(x, mean, label='Prediction')\n",
    "plt.plot(x, test_meter[0:200], label='Ground truth')\n",
    "plt.fill_between(x, (mean - var).flatten(), (mean + var).flatten(), color='lightblue', alpha=0.5, label='Variance')\n",
    "plt.legend()\n",
    "plt.show()"
   ]
  },
  {
   "cell_type": "markdown",
   "id": "2fad919d",
   "metadata": {},
   "source": [
    "## Convert the results back and compare the results"
   ]
  },
  {
   "cell_type": "code",
   "execution_count": 31,
   "id": "db154ec4",
   "metadata": {},
   "outputs": [],
   "source": [
    "prediction_transformed = transformIntoOriginalRange(mean.flatten(), original_data_train)\n",
    "variance_transformed = transformIntoOriginalRange(var.flatten(), original_data_train)\n",
    "original_test_transformed = transformIntoOriginalRange(original_data_test[0:200], original_data_train)"
   ]
  },
  {
   "cell_type": "code",
   "execution_count": 36,
   "id": "54da7fe7",
   "metadata": {},
   "outputs": [
    {
     "data": {
      "text/plain": [
       "[<matplotlib.lines.Line2D at 0x1a902415dc0>]"
      ]
     },
     "execution_count": 36,
     "metadata": {},
     "output_type": "execute_result"
    },
    {
     "data": {
      "image/png": "[encoded data removed]",
      "text/plain": [
       "<Figure size 432x288 with 1 Axes>"
      ]
     },
     "metadata": {
      "needs_background": "light"
     },
     "output_type": "display_data"
    }
   ],
   "source": [
    "plt.plot(original_data_test[0:200])\n",
    "plt.plot(original_test_transformed)"
   ]
  },
  {
   "cell_type": "code",
   "execution_count": 42,
   "id": "a6d16577",
   "metadata": {
    "scrolled": false
   },
   "outputs": [
    {
     "data": {
      "image/png": "[encoded data removed]",
      "text/plain": [
       "<Figure size 864x288 with 1 Axes>"
      ]
     },
     "metadata": {
      "needs_background": "light"
     },
     "output_type": "display_data"
    }
   ],
   "source": [
    "x = np.linspace(0, np.size(prediction_transformed), np.size(prediction_transformed))\n",
    "\n",
    "plt.figure(figsize=(12,4))\n",
    "plt.xlabel('Hours')\n",
    "plt.ylabel('Energy_consumption')\n",
    "\n",
    "plt.plot(x, prediction_transformed, label='Prediction')\n",
    "plt.plot(x, original_data_test[0:200], label='Ground truth')\n",
    "plt.legend()\n",
    "plt.show()"
   ]
  },
  {
   "cell_type": "markdown",
   "id": "6249da91",
   "metadata": {},
   "source": [
    "# Error computation"
   ]
  },
  {
   "cell_type": "code",
   "execution_count": 45,
   "id": "67329959",
   "metadata": {},
   "outputs": [
    {
     "name": "stdout",
     "output_type": "stream",
     "text": [
      "MSE:  17.431229363926832\n",
      "RMSE:  4.175072378286014\n",
      "MAE 3.214666504598467\n"
     ]
    }
   ],
   "source": [
    "mse = mean_squared_error(original_data_test[0:200], prediction_transformed)\n",
    "rmse = np.sqrt(mse)\n",
    "mae = mean_absolute_error(original_data_test[0:200], prediction_transformed)\n",
    "\n",
    "print(\"MSE: \", mse)\n",
    "print(\"RMSE: \", rmse)\n",
    "print(\"MAE\", mae)"
   ]
  }
 ],
 "metadata": {
  "direction": "ltr",
  "kernelspec": {
   "display_name": "Python 3 (ipykernel)",
   "language": "python",
   "name": "python3"
  },
  "language_info": {
   "codemirror_mode": {
    "name": "ipython",
    "version": 3
   },
   "file_extension": ".py",
   "mimetype": "text/x-python",
   "name": "python",
   "nbconvert_exporter": "python",
   "pygments_lexer": "ipython3",
   "version": "3.9.12"
  }
 },
 "nbformat": 4,
 "nbformat_minor": 5
}
